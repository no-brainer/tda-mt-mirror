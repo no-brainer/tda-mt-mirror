{
 "cells": [
  {
   "cell_type": "markdown",
   "source": [
    "# Tatoeba translation scores"
   ],
   "metadata": {}
  },
  {
   "cell_type": "code",
   "execution_count": 1,
   "source": [
    "import numpy as np\n",
    "import pandas as pd\n",
    "import matplotlib.pyplot as plt\n",
    "import seaborn as sns"
   ],
   "outputs": [],
   "metadata": {}
  },
  {
   "cell_type": "code",
   "execution_count": 2,
   "source": [
    "sns.set_palette(\"muted\")"
   ],
   "outputs": [],
   "metadata": {}
  },
  {
   "cell_type": "code",
   "execution_count": 3,
   "source": [
    "PLOTS_PATH = \"./plots\""
   ],
   "outputs": [],
   "metadata": {}
  },
  {
   "cell_type": "code",
   "execution_count": 6,
   "source": [
    "df = pd.read_csv(\"./data/tatoeba_train_otus_scores.tsv\", sep=\"\\t\", index_col=0)\n",
    "\n",
    "df.sample(10)"
   ],
   "outputs": [
    {
     "output_type": "execute_result",
     "data": {
      "text/plain": [
       "                                                translation    cosine  \\\n",
       "line_idx                                                                \n",
       "119058              Я не знал, что Том родился в Австралии.  0.000303   \n",
       "50756     Учительница указала на меня палец и попросила ...  0.022942   \n",
       "305340                         Почему ты так строга к себе?  0.007117   \n",
       "43855                         У меня нет планов на сегодня.  0.011102   \n",
       "315982                     Я не хочу умирать в одиночестве.  0.002532   \n",
       "127898              Он должен содержать свою мать и сестру.  0.020927   \n",
       "67104                            Я пытался предупредить ее.  0.078320   \n",
       "213823                                      Я немного пьян.  0.007947   \n",
       "219913                     Том мог бы сделать это для Мэри.  0.000000   \n",
       "451267                 Было холодно, и у нас начался пожар.  0.073600   \n",
       "\n",
       "                bleu  \n",
       "line_idx              \n",
       "119058     70.710678  \n",
       "50756      19.156929  \n",
       "305340     27.776190  \n",
       "43855      18.520283  \n",
       "315982     41.113362  \n",
       "127898     70.710678  \n",
       "67104      12.368465  \n",
       "213823     35.355339  \n",
       "219913    100.000000  \n",
       "451267     31.559845  "
      ],
      "text/html": [
       "<div>\n",
       "<style scoped>\n",
       "    .dataframe tbody tr th:only-of-type {\n",
       "        vertical-align: middle;\n",
       "    }\n",
       "\n",
       "    .dataframe tbody tr th {\n",
       "        vertical-align: top;\n",
       "    }\n",
       "\n",
       "    .dataframe thead th {\n",
       "        text-align: right;\n",
       "    }\n",
       "</style>\n",
       "<table border=\"1\" class=\"dataframe\">\n",
       "  <thead>\n",
       "    <tr style=\"text-align: right;\">\n",
       "      <th></th>\n",
       "      <th>translation</th>\n",
       "      <th>cosine</th>\n",
       "      <th>bleu</th>\n",
       "    </tr>\n",
       "    <tr>\n",
       "      <th>line_idx</th>\n",
       "      <th></th>\n",
       "      <th></th>\n",
       "      <th></th>\n",
       "    </tr>\n",
       "  </thead>\n",
       "  <tbody>\n",
       "    <tr>\n",
       "      <th>119058</th>\n",
       "      <td>Я не знал, что Том родился в Австралии.</td>\n",
       "      <td>0.000303</td>\n",
       "      <td>70.710678</td>\n",
       "    </tr>\n",
       "    <tr>\n",
       "      <th>50756</th>\n",
       "      <td>Учительница указала на меня палец и попросила ...</td>\n",
       "      <td>0.022942</td>\n",
       "      <td>19.156929</td>\n",
       "    </tr>\n",
       "    <tr>\n",
       "      <th>305340</th>\n",
       "      <td>Почему ты так строга к себе?</td>\n",
       "      <td>0.007117</td>\n",
       "      <td>27.776190</td>\n",
       "    </tr>\n",
       "    <tr>\n",
       "      <th>43855</th>\n",
       "      <td>У меня нет планов на сегодня.</td>\n",
       "      <td>0.011102</td>\n",
       "      <td>18.520283</td>\n",
       "    </tr>\n",
       "    <tr>\n",
       "      <th>315982</th>\n",
       "      <td>Я не хочу умирать в одиночестве.</td>\n",
       "      <td>0.002532</td>\n",
       "      <td>41.113362</td>\n",
       "    </tr>\n",
       "    <tr>\n",
       "      <th>127898</th>\n",
       "      <td>Он должен содержать свою мать и сестру.</td>\n",
       "      <td>0.020927</td>\n",
       "      <td>70.710678</td>\n",
       "    </tr>\n",
       "    <tr>\n",
       "      <th>67104</th>\n",
       "      <td>Я пытался предупредить ее.</td>\n",
       "      <td>0.078320</td>\n",
       "      <td>12.368465</td>\n",
       "    </tr>\n",
       "    <tr>\n",
       "      <th>213823</th>\n",
       "      <td>Я немного пьян.</td>\n",
       "      <td>0.007947</td>\n",
       "      <td>35.355339</td>\n",
       "    </tr>\n",
       "    <tr>\n",
       "      <th>219913</th>\n",
       "      <td>Том мог бы сделать это для Мэри.</td>\n",
       "      <td>0.000000</td>\n",
       "      <td>100.000000</td>\n",
       "    </tr>\n",
       "    <tr>\n",
       "      <th>451267</th>\n",
       "      <td>Было холодно, и у нас начался пожар.</td>\n",
       "      <td>0.073600</td>\n",
       "      <td>31.559845</td>\n",
       "    </tr>\n",
       "  </tbody>\n",
       "</table>\n",
       "</div>"
      ]
     },
     "metadata": {},
     "execution_count": 6
    }
   ],
   "metadata": {}
  },
  {
   "cell_type": "code",
   "execution_count": 9,
   "source": [
    "# Normalize bleu, since it is multiplied by 100.0\n",
    "df.bleu = df.bleu / 100"
   ],
   "outputs": [],
   "metadata": {}
  },
  {
   "cell_type": "code",
   "execution_count": 10,
   "source": [
    "df.describe()"
   ],
   "outputs": [
    {
     "output_type": "execute_result",
     "data": {
      "text/plain": [
       "              cosine           bleu\n",
       "count  491482.000000  491482.000000\n",
       "mean        0.043265       0.492338\n",
       "std         0.072209       0.331849\n",
       "min         0.000000       0.004618\n",
       "25%         0.000287       0.206124\n",
       "50%         0.012435       0.379918\n",
       "75%         0.056258       0.809107\n",
       "max         1.332027       1.000000"
      ],
      "text/html": [
       "<div>\n",
       "<style scoped>\n",
       "    .dataframe tbody tr th:only-of-type {\n",
       "        vertical-align: middle;\n",
       "    }\n",
       "\n",
       "    .dataframe tbody tr th {\n",
       "        vertical-align: top;\n",
       "    }\n",
       "\n",
       "    .dataframe thead th {\n",
       "        text-align: right;\n",
       "    }\n",
       "</style>\n",
       "<table border=\"1\" class=\"dataframe\">\n",
       "  <thead>\n",
       "    <tr style=\"text-align: right;\">\n",
       "      <th></th>\n",
       "      <th>cosine</th>\n",
       "      <th>bleu</th>\n",
       "    </tr>\n",
       "  </thead>\n",
       "  <tbody>\n",
       "    <tr>\n",
       "      <th>count</th>\n",
       "      <td>491482.000000</td>\n",
       "      <td>491482.000000</td>\n",
       "    </tr>\n",
       "    <tr>\n",
       "      <th>mean</th>\n",
       "      <td>0.043265</td>\n",
       "      <td>0.492338</td>\n",
       "    </tr>\n",
       "    <tr>\n",
       "      <th>std</th>\n",
       "      <td>0.072209</td>\n",
       "      <td>0.331849</td>\n",
       "    </tr>\n",
       "    <tr>\n",
       "      <th>min</th>\n",
       "      <td>0.000000</td>\n",
       "      <td>0.004618</td>\n",
       "    </tr>\n",
       "    <tr>\n",
       "      <th>25%</th>\n",
       "      <td>0.000287</td>\n",
       "      <td>0.206124</td>\n",
       "    </tr>\n",
       "    <tr>\n",
       "      <th>50%</th>\n",
       "      <td>0.012435</td>\n",
       "      <td>0.379918</td>\n",
       "    </tr>\n",
       "    <tr>\n",
       "      <th>75%</th>\n",
       "      <td>0.056258</td>\n",
       "      <td>0.809107</td>\n",
       "    </tr>\n",
       "    <tr>\n",
       "      <th>max</th>\n",
       "      <td>1.332027</td>\n",
       "      <td>1.000000</td>\n",
       "    </tr>\n",
       "  </tbody>\n",
       "</table>\n",
       "</div>"
      ]
     },
     "metadata": {},
     "execution_count": 10
    }
   ],
   "metadata": {}
  },
  {
   "cell_type": "code",
   "execution_count": 11,
   "source": [
    "from datetime import date\n",
    "import os"
   ],
   "outputs": [],
   "metadata": {}
  },
  {
   "cell_type": "code",
   "execution_count": 12,
   "source": [
    "sns.displot(data=df, x=\"bleu\", bins=50, alpha=0.9, zorder=10)\n",
    "\n",
    "ax = plt.gca()\n",
    "ax.set_yscale(\"log\")\n",
    "ax.set(\n",
    "    title=\"BLEU Score distribution\",\n",
    "    xlabel=\"BLEU\",\n",
    "    ylabel=\"Count (log scale)\",\n",
    ")\n",
    "\n",
    "ax.yaxis.grid(linestyle=\"dotted\", color=\"grey\", zorder=0)\n",
    "\n",
    "plt.savefig(\n",
    "    os.path.join(PLOTS_PATH, f\"bleu_distr_{date.today()}.pdf\"), \n",
    "    bbox_inches=\"tight\"\n",
    ")"
   ],
   "outputs": [
    {
     "output_type": "display_data",
     "data": {
      "text/plain": [
       "<Figure size 360x360 with 1 Axes>"
      ],
      "image/png": "[encoded data removed]"
     },
     "metadata": {
      "needs_background": "light"
     }
    }
   ],
   "metadata": {}
  },
  {
   "cell_type": "code",
   "execution_count": 13,
   "source": [
    "sns.displot(data=df, x=\"cosine\", bins=50, alpha=0.9, zorder=10)\n",
    "\n",
    "ax = plt.gca()\n",
    "ax.set_yscale(\"log\")\n",
    "ax.set(\n",
    "    title=\"Cosine distance distribution\",\n",
    "    xlabel=\"Cosine distance\",\n",
    "    ylabel=\"Count\",\n",
    ")\n",
    "\n",
    "ax.yaxis.grid(linestyle=\"dotted\", color=\"grey\", zorder=0)\n",
    "\n",
    "plt.savefig(\n",
    "    os.path.join(PLOTS_PATH, f\"cosine_distr_{date.today()}.pdf\"), \n",
    "    bbox_inches=\"tight\"\n",
    ")"
   ],
   "outputs": [
    {
     "output_type": "display_data",
     "data": {
      "text/plain": [
       "<Figure size 360x360 with 1 Axes>"
      ],
      "image/png": "[encoded data removed]"
     },
     "metadata": {
      "needs_background": "light"
     }
    }
   ],
   "metadata": {}
  },
  {
   "cell_type": "code",
   "execution_count": 28,
   "source": [
    "from matplotlib.colors import LogNorm"
   ],
   "outputs": [],
   "metadata": {}
  },
  {
   "cell_type": "code",
   "execution_count": 31,
   "source": [
    "sns.displot(data=df, x=\"cosine\", y=\"bleu\", bins=15, hue_norm=LogNorm())\n",
    "\n",
    "ax = plt.gca()\n",
    "ax.set(\n",
    "    title=\"Joint distribution\\nfor cosine distance and BLEU score\",\n",
    "    xlabel=\"Cosine distance\",\n",
    "    ylabel=\"BLEU scores\",\n",
    ")\n",
    "\n",
    "plt.savefig(\n",
    "    os.path.join(PLOTS_PATH, f\"joint_distr_cosine_bleu_15_bins_{date.today()}.pdf\"),\n",
    "    bbox_inches=\"tight\"\n",
    ")"
   ],
   "outputs": [
    {
     "output_type": "display_data",
     "data": {
      "text/plain": [
       "<Figure size 360x360 with 1 Axes>"
      ],
      "image/png": "[encoded data removed]"
     },
     "metadata": {
      "needs_background": "light"
     }
    }
   ],
   "metadata": {}
  },
  {
   "cell_type": "code",
   "execution_count": 58,
   "source": [
    "print(\"Correlation between evaluation scores\")\n",
    "\n",
    "df.corr()"
   ],
   "outputs": [
    {
     "output_type": "stream",
     "name": "stdout",
     "text": [
      "Correlation between evaluation scores\n"
     ]
    },
    {
     "output_type": "execute_result",
     "data": {
      "text/plain": [
       "          cosine      bleu\n",
       "cosine  1.000000 -0.475757\n",
       "bleu   -0.475757  1.000000"
      ],
      "text/html": [
       "<div>\n",
       "<style scoped>\n",
       "    .dataframe tbody tr th:only-of-type {\n",
       "        vertical-align: middle;\n",
       "    }\n",
       "\n",
       "    .dataframe tbody tr th {\n",
       "        vertical-align: top;\n",
       "    }\n",
       "\n",
       "    .dataframe thead th {\n",
       "        text-align: right;\n",
       "    }\n",
       "</style>\n",
       "<table border=\"1\" class=\"dataframe\">\n",
       "  <thead>\n",
       "    <tr style=\"text-align: right;\">\n",
       "      <th></th>\n",
       "      <th>cosine</th>\n",
       "      <th>bleu</th>\n",
       "    </tr>\n",
       "  </thead>\n",
       "  <tbody>\n",
       "    <tr>\n",
       "      <th>cosine</th>\n",
       "      <td>1.000000</td>\n",
       "      <td>-0.475757</td>\n",
       "    </tr>\n",
       "    <tr>\n",
       "      <th>bleu</th>\n",
       "      <td>-0.475757</td>\n",
       "      <td>1.000000</td>\n",
       "    </tr>\n",
       "  </tbody>\n",
       "</table>\n",
       "</div>"
      ]
     },
     "metadata": {},
     "execution_count": 58
    }
   ],
   "metadata": {}
  },
  {
   "cell_type": "markdown",
   "source": [
    "## Separating data into bad translations and good translations"
   ],
   "metadata": {}
  },
  {
   "cell_type": "code",
   "execution_count": 46,
   "source": [
    "sns.scatterplot(data=df.sample(5000), y=\"bleu\", x=\"cosine\")\n",
    "\n",
    "plt.plot([0, 0.35], [1, 0], c=\"r\")\n",
    "\n",
    "plt.show()"
   ],
   "outputs": [
    {
     "output_type": "display_data",
     "data": {
      "text/plain": [
       "<Figure size 432x288 with 1 Axes>"
      ],
      "image/png": "[encoded data removed]"
     },
     "metadata": {
      "needs_background": "light"
     }
    }
   ],
   "metadata": {}
  },
  {
   "cell_type": "code",
   "execution_count": 57,
   "source": [
    "cut_df = df[((df.bleu - 20 / 7 * df.cosine) < 0) & (df.bleu > 0.4)]\n",
    "\n",
    "print(\"Example count:\", len(cut_df))\n",
    "\n",
    "cut_df.sample(10)"
   ],
   "outputs": [
    {
     "output_type": "stream",
     "name": "stdout",
     "text": [
      "Example count: 1293\n"
     ]
    },
    {
     "output_type": "execute_result",
     "data": {
      "text/plain": [
       "                                             translation    cosine      bleu\n",
       "line_idx                                                                    \n",
       "56008                    Тома трижды выстрелили в спину.  0.171484  0.430125\n",
       "463826                              Я ценю вашу позицию.  0.157124  0.427287\n",
       "127272                                       Том промок.  0.168484  0.451386\n",
       "337445                                Правильные ошибки.  0.204098  0.550321\n",
       "384134                                 Счет, пожалуйста.  0.308525  0.594604\n",
       "261315                                         Терпение.  0.470843  0.500000\n",
       "321257      Кто-то, должно быть, оставил воду в течении.  0.197078  0.537285\n",
       "265819                                             Ясно.  0.260434  0.500000\n",
       "342076    Я чувствую, что перевод стал очень неприятным.  0.185114  0.467138\n",
       "110936                           Поторопись, пожалуйста.  0.293818  0.594604"
      ],
      "text/html": [
       "<div>\n",
       "<style scoped>\n",
       "    .dataframe tbody tr th:only-of-type {\n",
       "        vertical-align: middle;\n",
       "    }\n",
       "\n",
       "    .dataframe tbody tr th {\n",
       "        vertical-align: top;\n",
       "    }\n",
       "\n",
       "    .dataframe thead th {\n",
       "        text-align: right;\n",
       "    }\n",
       "</style>\n",
       "<table border=\"1\" class=\"dataframe\">\n",
       "  <thead>\n",
       "    <tr style=\"text-align: right;\">\n",
       "      <th></th>\n",
       "      <th>translation</th>\n",
       "      <th>cosine</th>\n",
       "      <th>bleu</th>\n",
       "    </tr>\n",
       "    <tr>\n",
       "      <th>line_idx</th>\n",
       "      <th></th>\n",
       "      <th></th>\n",
       "      <th></th>\n",
       "    </tr>\n",
       "  </thead>\n",
       "  <tbody>\n",
       "    <tr>\n",
       "      <th>56008</th>\n",
       "      <td>Тома трижды выстрелили в спину.</td>\n",
       "      <td>0.171484</td>\n",
       "      <td>0.430125</td>\n",
       "    </tr>\n",
       "    <tr>\n",
       "      <th>463826</th>\n",
       "      <td>Я ценю вашу позицию.</td>\n",
       "      <td>0.157124</td>\n",
       "      <td>0.427287</td>\n",
       "    </tr>\n",
       "    <tr>\n",
       "      <th>127272</th>\n",
       "      <td>Том промок.</td>\n",
       "      <td>0.168484</td>\n",
       "      <td>0.451386</td>\n",
       "    </tr>\n",
       "    <tr>\n",
       "      <th>337445</th>\n",
       "      <td>Правильные ошибки.</td>\n",
       "      <td>0.204098</td>\n",
       "      <td>0.550321</td>\n",
       "    </tr>\n",
       "    <tr>\n",
       "      <th>384134</th>\n",
       "      <td>Счет, пожалуйста.</td>\n",
       "      <td>0.308525</td>\n",
       "      <td>0.594604</td>\n",
       "    </tr>\n",
       "    <tr>\n",
       "      <th>261315</th>\n",
       "      <td>Терпение.</td>\n",
       "      <td>0.470843</td>\n",
       "      <td>0.500000</td>\n",
       "    </tr>\n",
       "    <tr>\n",
       "      <th>321257</th>\n",
       "      <td>Кто-то, должно быть, оставил воду в течении.</td>\n",
       "      <td>0.197078</td>\n",
       "      <td>0.537285</td>\n",
       "    </tr>\n",
       "    <tr>\n",
       "      <th>265819</th>\n",
       "      <td>Ясно.</td>\n",
       "      <td>0.260434</td>\n",
       "      <td>0.500000</td>\n",
       "    </tr>\n",
       "    <tr>\n",
       "      <th>342076</th>\n",
       "      <td>Я чувствую, что перевод стал очень неприятным.</td>\n",
       "      <td>0.185114</td>\n",
       "      <td>0.467138</td>\n",
       "    </tr>\n",
       "    <tr>\n",
       "      <th>110936</th>\n",
       "      <td>Поторопись, пожалуйста.</td>\n",
       "      <td>0.293818</td>\n",
       "      <td>0.594604</td>\n",
       "    </tr>\n",
       "  </tbody>\n",
       "</table>\n",
       "</div>"
      ]
     },
     "metadata": {},
     "execution_count": 57
    }
   ],
   "metadata": {}
  },
  {
   "cell_type": "code",
   "execution_count": 96,
   "source": [
    "# Zone of idiomes\n",
    "cut_df = df[df.cosine > 0.8]\n",
    "\n",
    "print(\"Example count:\", len(cut_df))\n",
    "\n",
    "cut_df.sample(10)"
   ],
   "outputs": [
    {
     "output_type": "stream",
     "name": "stdout",
     "text": [
      "Example count: 33\n"
     ]
    },
    {
     "output_type": "execute_result",
     "data": {
      "text/plain": [
       "                                              translation    cosine      bleu\n",
       "68962   Предвидимая опасность — это опасность, которой...  0.807362  0.049900\n",
       "426306                      Многие хрени делают из хлама.  0.832403  0.081167\n",
       "98951                  У маленьких горшков длинные ручки.  0.806493  0.081167\n",
       "133332                             Многие делают щекотку.  0.926431  0.058764\n",
       "47231                        Дождь идет кошкам и собакам.  0.821410  0.081167\n",
       "300389                                       Естественно.  0.823215  0.151633\n",
       "262133                                   Это кусок торта.  0.832333  0.159736\n",
       "423224    Поговорите о дьяволе и он обязательно появится.  0.956265  0.055224\n",
       "328865      Цепочка не срабатывает на самом слабом звене.  0.806969  0.055224\n",
       "241218  Вааааааааааааааааааааааааааааааааааааааааааааа...  1.332027  0.067668"
      ],
      "text/html": [
       "<div>\n",
       "<style scoped>\n",
       "    .dataframe tbody tr th:only-of-type {\n",
       "        vertical-align: middle;\n",
       "    }\n",
       "\n",
       "    .dataframe tbody tr th {\n",
       "        vertical-align: top;\n",
       "    }\n",
       "\n",
       "    .dataframe thead th {\n",
       "        text-align: right;\n",
       "    }\n",
       "</style>\n",
       "<table border=\"1\" class=\"dataframe\">\n",
       "  <thead>\n",
       "    <tr style=\"text-align: right;\">\n",
       "      <th></th>\n",
       "      <th>translation</th>\n",
       "      <th>cosine</th>\n",
       "      <th>bleu</th>\n",
       "    </tr>\n",
       "  </thead>\n",
       "  <tbody>\n",
       "    <tr>\n",
       "      <th>68962</th>\n",
       "      <td>Предвидимая опасность — это опасность, которой...</td>\n",
       "      <td>0.807362</td>\n",
       "      <td>0.049900</td>\n",
       "    </tr>\n",
       "    <tr>\n",
       "      <th>426306</th>\n",
       "      <td>Многие хрени делают из хлама.</td>\n",
       "      <td>0.832403</td>\n",
       "      <td>0.081167</td>\n",
       "    </tr>\n",
       "    <tr>\n",
       "      <th>98951</th>\n",
       "      <td>У маленьких горшков длинные ручки.</td>\n",
       "      <td>0.806493</td>\n",
       "      <td>0.081167</td>\n",
       "    </tr>\n",
       "    <tr>\n",
       "      <th>133332</th>\n",
       "      <td>Многие делают щекотку.</td>\n",
       "      <td>0.926431</td>\n",
       "      <td>0.058764</td>\n",
       "    </tr>\n",
       "    <tr>\n",
       "      <th>47231</th>\n",
       "      <td>Дождь идет кошкам и собакам.</td>\n",
       "      <td>0.821410</td>\n",
       "      <td>0.081167</td>\n",
       "    </tr>\n",
       "    <tr>\n",
       "      <th>300389</th>\n",
       "      <td>Естественно.</td>\n",
       "      <td>0.823215</td>\n",
       "      <td>0.151633</td>\n",
       "    </tr>\n",
       "    <tr>\n",
       "      <th>262133</th>\n",
       "      <td>Это кусок торта.</td>\n",
       "      <td>0.832333</td>\n",
       "      <td>0.159736</td>\n",
       "    </tr>\n",
       "    <tr>\n",
       "      <th>423224</th>\n",
       "      <td>Поговорите о дьяволе и он обязательно появится.</td>\n",
       "      <td>0.956265</td>\n",
       "      <td>0.055224</td>\n",
       "    </tr>\n",
       "    <tr>\n",
       "      <th>328865</th>\n",
       "      <td>Цепочка не срабатывает на самом слабом звене.</td>\n",
       "      <td>0.806969</td>\n",
       "      <td>0.055224</td>\n",
       "    </tr>\n",
       "    <tr>\n",
       "      <th>241218</th>\n",
       "      <td>Вааааааааааааааааааааааааааааааааааааааааааааа...</td>\n",
       "      <td>1.332027</td>\n",
       "      <td>0.067668</td>\n",
       "    </tr>\n",
       "  </tbody>\n",
       "</table>\n",
       "</div>"
      ]
     },
     "metadata": {},
     "execution_count": 96
    }
   ],
   "metadata": {}
  },
  {
   "cell_type": "code",
   "execution_count": 97,
   "source": [
    "# Great translations by both metrics\n",
    "cut_df = df[(df.cosine < 0.1) & (df.bleu > 0.9)]\n",
    "\n",
    "print(\"Example count:\", len(cut_df))\n",
    "\n",
    "cut_df.sample(10)"
   ],
   "outputs": [
    {
     "output_type": "stream",
     "name": "stdout",
     "text": [
      "Example count: 121244\n"
     ]
    },
    {
     "output_type": "execute_result",
     "data": {
      "text/plain": [
       "                                    translation  cosine  bleu\n",
       "58741                                  Это все?     0.0   1.0\n",
       "199553             Я оставил им пару сообщений.     0.0   1.0\n",
       "41384                    Чем я могу ему помочь?     0.0   1.0\n",
       "325601                        Ты любишь слонов.     0.0   1.0\n",
       "96935   Мэри сказала мне, что хочет поговорить.     0.0   1.0\n",
       "454040                   Я тоже жил в Гамбурге.     0.0   1.0\n",
       "122033                              Я из Дании.     0.0   1.0\n",
       "486247             Пора вернуться к реальности.     0.0   1.0\n",
       "118413                 Мы с Томом давно женаты.     0.0   1.0\n",
       "100606                    У него новая девушка.     0.0   1.0"
      ],
      "text/html": [
       "<div>\n",
       "<style scoped>\n",
       "    .dataframe tbody tr th:only-of-type {\n",
       "        vertical-align: middle;\n",
       "    }\n",
       "\n",
       "    .dataframe tbody tr th {\n",
       "        vertical-align: top;\n",
       "    }\n",
       "\n",
       "    .dataframe thead th {\n",
       "        text-align: right;\n",
       "    }\n",
       "</style>\n",
       "<table border=\"1\" class=\"dataframe\">\n",
       "  <thead>\n",
       "    <tr style=\"text-align: right;\">\n",
       "      <th></th>\n",
       "      <th>translation</th>\n",
       "      <th>cosine</th>\n",
       "      <th>bleu</th>\n",
       "    </tr>\n",
       "  </thead>\n",
       "  <tbody>\n",
       "    <tr>\n",
       "      <th>58741</th>\n",
       "      <td>Это все?</td>\n",
       "      <td>0.0</td>\n",
       "      <td>1.0</td>\n",
       "    </tr>\n",
       "    <tr>\n",
       "      <th>199553</th>\n",
       "      <td>Я оставил им пару сообщений.</td>\n",
       "      <td>0.0</td>\n",
       "      <td>1.0</td>\n",
       "    </tr>\n",
       "    <tr>\n",
       "      <th>41384</th>\n",
       "      <td>Чем я могу ему помочь?</td>\n",
       "      <td>0.0</td>\n",
       "      <td>1.0</td>\n",
       "    </tr>\n",
       "    <tr>\n",
       "      <th>325601</th>\n",
       "      <td>Ты любишь слонов.</td>\n",
       "      <td>0.0</td>\n",
       "      <td>1.0</td>\n",
       "    </tr>\n",
       "    <tr>\n",
       "      <th>96935</th>\n",
       "      <td>Мэри сказала мне, что хочет поговорить.</td>\n",
       "      <td>0.0</td>\n",
       "      <td>1.0</td>\n",
       "    </tr>\n",
       "    <tr>\n",
       "      <th>454040</th>\n",
       "      <td>Я тоже жил в Гамбурге.</td>\n",
       "      <td>0.0</td>\n",
       "      <td>1.0</td>\n",
       "    </tr>\n",
       "    <tr>\n",
       "      <th>122033</th>\n",
       "      <td>Я из Дании.</td>\n",
       "      <td>0.0</td>\n",
       "      <td>1.0</td>\n",
       "    </tr>\n",
       "    <tr>\n",
       "      <th>486247</th>\n",
       "      <td>Пора вернуться к реальности.</td>\n",
       "      <td>0.0</td>\n",
       "      <td>1.0</td>\n",
       "    </tr>\n",
       "    <tr>\n",
       "      <th>118413</th>\n",
       "      <td>Мы с Томом давно женаты.</td>\n",
       "      <td>0.0</td>\n",
       "      <td>1.0</td>\n",
       "    </tr>\n",
       "    <tr>\n",
       "      <th>100606</th>\n",
       "      <td>У него новая девушка.</td>\n",
       "      <td>0.0</td>\n",
       "      <td>1.0</td>\n",
       "    </tr>\n",
       "  </tbody>\n",
       "</table>\n",
       "</div>"
      ]
     },
     "metadata": {},
     "execution_count": 97
    }
   ],
   "metadata": {}
  },
  {
   "cell_type": "code",
   "execution_count": null,
   "source": [],
   "outputs": [],
   "metadata": {}
  }
 ],
 "metadata": {
  "interpreter": {
   "hash": "f46dbfbc06b85bfa399c3f1e19d52b9e5842bc23723244878e740f9b0f429d7f"
  },
  "kernelspec": {
   "name": "python3",
   "display_name": "Python 3.9.5 64-bit ('.venv': venv)"
  },
  "language_info": {
   "codemirror_mode": {
    "name": "ipython",
    "version": 3
   },
   "file_extension": ".py",
   "mimetype": "text/x-python",
   "name": "python",
   "nbconvert_exporter": "python",
   "pygments_lexer": "ipython3",
   "version": "3.9.5"
  }
 },
 "nbformat": 4,
 "nbformat_minor": 2
}