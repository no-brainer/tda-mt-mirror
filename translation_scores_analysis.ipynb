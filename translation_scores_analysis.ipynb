{
 "cells": [
  {
   "cell_type": "markdown",
   "metadata": {},
   "source": [
    "# Tatoeba translation scores"
   ]
  },
  {
   "cell_type": "code",
   "execution_count": 1,
   "metadata": {},
   "outputs": [],
   "source": [
    "import numpy as np\n",
    "import pandas as pd\n",
    "import matplotlib.pyplot as plt\n",
    "import seaborn as sns"
   ]
  },
  {
   "cell_type": "code",
   "execution_count": 2,
   "metadata": {},
   "outputs": [],
   "source": [
    "sns.set_palette(\"muted\")"
   ]
  },
  {
   "cell_type": "code",
   "execution_count": 3,
   "metadata": {},
   "outputs": [],
   "source": [
    "PLOTS_PATH = \"./plots\""
   ]
  },
  {
   "cell_type": "code",
   "execution_count": 4,
   "metadata": {},
   "outputs": [
    {
     "data": {
      "text/html": [
       "<div>\n",
       "<style scoped>\n",
       "    .dataframe tbody tr th:only-of-type {\n",
       "        vertical-align: middle;\n",
       "    }\n",
       "\n",
       "    .dataframe tbody tr th {\n",
       "        vertical-align: top;\n",
       "    }\n",
       "\n",
       "    .dataframe thead th {\n",
       "        text-align: right;\n",
       "    }\n",
       "</style>\n",
       "<table border=\"1\" class=\"dataframe\">\n",
       "  <thead>\n",
       "    <tr style=\"text-align: right;\">\n",
       "      <th></th>\n",
       "      <th>translation</th>\n",
       "      <th>cosine</th>\n",
       "      <th>bleu</th>\n",
       "    </tr>\n",
       "  </thead>\n",
       "  <tbody>\n",
       "    <tr>\n",
       "      <th>100895</th>\n",
       "      <td>Том не мог ответить Мэри.</td>\n",
       "      <td>0.000000</td>\n",
       "      <td>100.000000</td>\n",
       "    </tr>\n",
       "    <tr>\n",
       "      <th>362285</th>\n",
       "      <td>Весна пришла в себя.</td>\n",
       "      <td>0.114637</td>\n",
       "      <td>10.682175</td>\n",
       "    </tr>\n",
       "    <tr>\n",
       "      <th>52881</th>\n",
       "      <td>Ходят слухи, что вы двое встречаетесь.</td>\n",
       "      <td>0.051971</td>\n",
       "      <td>68.037493</td>\n",
       "    </tr>\n",
       "    <tr>\n",
       "      <th>15273</th>\n",
       "      <td>Семья Тома не очень большая.</td>\n",
       "      <td>0.009641</td>\n",
       "      <td>67.318214</td>\n",
       "    </tr>\n",
       "    <tr>\n",
       "      <th>375106</th>\n",
       "      <td>На этот раз ты зашел слишком далеко.</td>\n",
       "      <td>0.001141</td>\n",
       "      <td>50.000000</td>\n",
       "    </tr>\n",
       "    <tr>\n",
       "      <th>235704</th>\n",
       "      <td>Я знаю город, жители которого никогда не курили.</td>\n",
       "      <td>0.000000</td>\n",
       "      <td>100.000000</td>\n",
       "    </tr>\n",
       "    <tr>\n",
       "      <th>390653</th>\n",
       "      <td>Том появился из ниоткуда.</td>\n",
       "      <td>0.016226</td>\n",
       "      <td>42.728701</td>\n",
       "    </tr>\n",
       "    <tr>\n",
       "      <th>84822</th>\n",
       "      <td>К счастью, Том был в ремне безопасности.</td>\n",
       "      <td>0.125248</td>\n",
       "      <td>46.713798</td>\n",
       "    </tr>\n",
       "    <tr>\n",
       "      <th>420483</th>\n",
       "      <td>У Тома было настроение получше час назад.</td>\n",
       "      <td>0.095192</td>\n",
       "      <td>6.567275</td>\n",
       "    </tr>\n",
       "    <tr>\n",
       "      <th>203894</th>\n",
       "      <td>Мне очень нравится путешествовать по кораблю.</td>\n",
       "      <td>0.045025</td>\n",
       "      <td>15.619700</td>\n",
       "    </tr>\n",
       "  </tbody>\n",
       "</table>\n",
       "</div>"
      ],
      "text/plain": [
       "                                             translation    cosine        bleu\n",
       "100895                         Том не мог ответить Мэри.  0.000000  100.000000\n",
       "362285                              Весна пришла в себя.  0.114637   10.682175\n",
       "52881             Ходят слухи, что вы двое встречаетесь.  0.051971   68.037493\n",
       "15273                       Семья Тома не очень большая.  0.009641   67.318214\n",
       "375106              На этот раз ты зашел слишком далеко.  0.001141   50.000000\n",
       "235704  Я знаю город, жители которого никогда не курили.  0.000000  100.000000\n",
       "390653                         Том появился из ниоткуда.  0.016226   42.728701\n",
       "84822           К счастью, Том был в ремне безопасности.  0.125248   46.713798\n",
       "420483         У Тома было настроение получше час назад.  0.095192    6.567275\n",
       "203894     Мне очень нравится путешествовать по кораблю.  0.045025   15.619700"
      ]
     },
     "execution_count": 4,
     "metadata": {},
     "output_type": "execute_result"
    }
   ],
   "source": [
    "df = pd.read_csv(\"./data/translation_scores.txt\", sep=\"\\t\")\n",
    "\n",
    "df.sample(10)"
   ]
  },
  {
   "cell_type": "code",
   "execution_count": 5,
   "metadata": {},
   "outputs": [],
   "source": [
    "# Normalize bleu, since it is multiplied by 100.0\n",
    "df.bleu = df.bleu / 100"
   ]
  },
  {
   "cell_type": "code",
   "execution_count": 6,
   "metadata": {},
   "outputs": [
    {
     "data": {
      "text/html": [
       "<div>\n",
       "<style scoped>\n",
       "    .dataframe tbody tr th:only-of-type {\n",
       "        vertical-align: middle;\n",
       "    }\n",
       "\n",
       "    .dataframe tbody tr th {\n",
       "        vertical-align: top;\n",
       "    }\n",
       "\n",
       "    .dataframe thead th {\n",
       "        text-align: right;\n",
       "    }\n",
       "</style>\n",
       "<table border=\"1\" class=\"dataframe\">\n",
       "  <thead>\n",
       "    <tr style=\"text-align: right;\">\n",
       "      <th></th>\n",
       "      <th>cosine</th>\n",
       "      <th>bleu</th>\n",
       "    </tr>\n",
       "  </thead>\n",
       "  <tbody>\n",
       "    <tr>\n",
       "      <th>count</th>\n",
       "      <td>491482.000000</td>\n",
       "      <td>491482.000000</td>\n",
       "    </tr>\n",
       "    <tr>\n",
       "      <th>mean</th>\n",
       "      <td>0.043265</td>\n",
       "      <td>0.492338</td>\n",
       "    </tr>\n",
       "    <tr>\n",
       "      <th>std</th>\n",
       "      <td>0.072209</td>\n",
       "      <td>0.331849</td>\n",
       "    </tr>\n",
       "    <tr>\n",
       "      <th>min</th>\n",
       "      <td>0.000000</td>\n",
       "      <td>0.004618</td>\n",
       "    </tr>\n",
       "    <tr>\n",
       "      <th>25%</th>\n",
       "      <td>0.000287</td>\n",
       "      <td>0.206124</td>\n",
       "    </tr>\n",
       "    <tr>\n",
       "      <th>50%</th>\n",
       "      <td>0.012435</td>\n",
       "      <td>0.379918</td>\n",
       "    </tr>\n",
       "    <tr>\n",
       "      <th>75%</th>\n",
       "      <td>0.056258</td>\n",
       "      <td>0.809107</td>\n",
       "    </tr>\n",
       "    <tr>\n",
       "      <th>max</th>\n",
       "      <td>1.332027</td>\n",
       "      <td>1.000000</td>\n",
       "    </tr>\n",
       "  </tbody>\n",
       "</table>\n",
       "</div>"
      ],
      "text/plain": [
       "              cosine           bleu\n",
       "count  491482.000000  491482.000000\n",
       "mean        0.043265       0.492338\n",
       "std         0.072209       0.331849\n",
       "min         0.000000       0.004618\n",
       "25%         0.000287       0.206124\n",
       "50%         0.012435       0.379918\n",
       "75%         0.056258       0.809107\n",
       "max         1.332027       1.000000"
      ]
     },
     "execution_count": 6,
     "metadata": {},
     "output_type": "execute_result"
    }
   ],
   "source": [
    "df.describe()"
   ]
  },
  {
   "cell_type": "code",
   "execution_count": 7,
   "metadata": {},
   "outputs": [],
   "source": [
    "from datetime import date\n",
    "import os"
   ]
  },
  {
   "cell_type": "code",
   "execution_count": 67,
   "metadata": {},
   "outputs": [
    {
     "data": {
      "image/png": "[encoded data removed]",
      "text/plain": [
       "<Figure size 360x360 with 1 Axes>"
      ]
     },
     "metadata": {
      "needs_background": "light"
     },
     "output_type": "display_data"
    }
   ],
   "source": [
    "sns.displot(data=df, x=\"bleu\", bins=50, alpha=0.9, zorder=10)\n",
    "\n",
    "ax = plt.gca()\n",
    "ax.set_yscale(\"log\")\n",
    "ax.set(\n",
    "    title=\"BLEU Score distribution\",\n",
    "    xlabel=\"BLEU\",\n",
    "    ylabel=\"Count (log scale)\",\n",
    ")\n",
    "\n",
    "ax.yaxis.grid(linestyle=\"dotted\", color=\"grey\", zorder=0)\n",
    "\n",
    "plt.savefig(\n",
    "    os.path.join(PLOTS_PATH, f\"bleu_distr_{date.today()}.pdf\"), \n",
    "    bbox_inches=\"tight\"\n",
    ")"
   ]
  },
  {
   "cell_type": "code",
   "execution_count": 69,
   "metadata": {},
   "outputs": [
    {
     "data": {
      "image/png": "[encoded data removed]",
      "text/plain": [
       "<Figure size 360x360 with 1 Axes>"
      ]
     },
     "metadata": {
      "needs_background": "light"
     },
     "output_type": "display_data"
    }
   ],
   "source": [
    "sns.displot(data=df, x=\"cosine\", bins=50, alpha=0.9, zorder=10)\n",
    "\n",
    "ax = plt.gca()\n",
    "ax.set_yscale(\"log\")\n",
    "ax.set(\n",
    "    title=\"Cosine distance distribution\",\n",
    "    xlabel=\"Cosine distance\",\n",
    "    ylabel=\"Count\",\n",
    ")\n",
    "\n",
    "ax.yaxis.grid(linestyle=\"dotted\", color=\"grey\", zorder=0)\n",
    "\n",
    "plt.savefig(\n",
    "    os.path.join(PLOTS_PATH, f\"cosine_distr_{date.today()}.pdf\"), \n",
    "    bbox_inches=\"tight\"\n",
    ")"
   ]
  },
  {
   "cell_type": "code",
   "execution_count": 93,
   "metadata": {},
   "outputs": [
    {
     "data": {
      "image/png": "[encoded data removed]",
      "text/plain": [
       "<Figure size 360x360 with 1 Axes>"
      ]
     },
     "metadata": {
      "needs_background": "light"
     },
     "output_type": "display_data"
    }
   ],
   "source": [
    "sns.displot(data=df, x=\"cosine\", y=\"bleu\", bins=15)\n",
    "\n",
    "ax = plt.gca()\n",
    "ax.set(\n",
    "    title=\"Joint distribution\\nfor cosine distance and BLEU score\",\n",
    "    xlabel=\"Cosine distance\",\n",
    "    ylabel=\"BLEU scores\",\n",
    ")\n",
    "\n",
    "plt.savefig(\n",
    "    os.path.join(PLOTS_PATH, f\"joint_distr_cosine_bleu_15_bins_{date.today()}.pdf\"),\n",
    "    bbox_inches=\"tight\"\n",
    ")"
   ]
  },
  {
   "cell_type": "code",
   "execution_count": 94,
   "metadata": {},
   "outputs": [
    {
     "name": "stdout",
     "output_type": "stream",
     "text": [
      "Корреляция между оценками качества перевода\n"
     ]
    },
    {
     "data": {
      "text/html": [
       "<div>\n",
       "<style scoped>\n",
       "    .dataframe tbody tr th:only-of-type {\n",
       "        vertical-align: middle;\n",
       "    }\n",
       "\n",
       "    .dataframe tbody tr th {\n",
       "        vertical-align: top;\n",
       "    }\n",
       "\n",
       "    .dataframe thead th {\n",
       "        text-align: right;\n",
       "    }\n",
       "</style>\n",
       "<table border=\"1\" class=\"dataframe\">\n",
       "  <thead>\n",
       "    <tr style=\"text-align: right;\">\n",
       "      <th></th>\n",
       "      <th>cosine</th>\n",
       "      <th>bleu</th>\n",
       "    </tr>\n",
       "  </thead>\n",
       "  <tbody>\n",
       "    <tr>\n",
       "      <th>cosine</th>\n",
       "      <td>1.000000</td>\n",
       "      <td>-0.475757</td>\n",
       "    </tr>\n",
       "    <tr>\n",
       "      <th>bleu</th>\n",
       "      <td>-0.475757</td>\n",
       "      <td>1.000000</td>\n",
       "    </tr>\n",
       "  </tbody>\n",
       "</table>\n",
       "</div>"
      ],
      "text/plain": [
       "          cosine      bleu\n",
       "cosine  1.000000 -0.475757\n",
       "bleu   -0.475757  1.000000"
      ]
     },
     "execution_count": 94,
     "metadata": {},
     "output_type": "execute_result"
    }
   ],
   "source": [
    "print(\"Корреляция между оценками качества перевода\")\n",
    "\n",
    "df.corr()"
   ]
  },
  {
   "cell_type": "markdown",
   "metadata": {},
   "source": [
    "## Separating data into bad translations and good translations"
   ]
  },
  {
   "cell_type": "code",
   "execution_count": 96,
   "metadata": {},
   "outputs": [
    {
     "name": "stdout",
     "output_type": "stream",
     "text": [
      "Example count: 33\n"
     ]
    },
    {
     "data": {
      "text/html": [
       "<div>\n",
       "<style scoped>\n",
       "    .dataframe tbody tr th:only-of-type {\n",
       "        vertical-align: middle;\n",
       "    }\n",
       "\n",
       "    .dataframe tbody tr th {\n",
       "        vertical-align: top;\n",
       "    }\n",
       "\n",
       "    .dataframe thead th {\n",
       "        text-align: right;\n",
       "    }\n",
       "</style>\n",
       "<table border=\"1\" class=\"dataframe\">\n",
       "  <thead>\n",
       "    <tr style=\"text-align: right;\">\n",
       "      <th></th>\n",
       "      <th>translation</th>\n",
       "      <th>cosine</th>\n",
       "      <th>bleu</th>\n",
       "    </tr>\n",
       "  </thead>\n",
       "  <tbody>\n",
       "    <tr>\n",
       "      <th>68962</th>\n",
       "      <td>Предвидимая опасность — это опасность, которой...</td>\n",
       "      <td>0.807362</td>\n",
       "      <td>0.049900</td>\n",
       "    </tr>\n",
       "    <tr>\n",
       "      <th>426306</th>\n",
       "      <td>Многие хрени делают из хлама.</td>\n",
       "      <td>0.832403</td>\n",
       "      <td>0.081167</td>\n",
       "    </tr>\n",
       "    <tr>\n",
       "      <th>98951</th>\n",
       "      <td>У маленьких горшков длинные ручки.</td>\n",
       "      <td>0.806493</td>\n",
       "      <td>0.081167</td>\n",
       "    </tr>\n",
       "    <tr>\n",
       "      <th>133332</th>\n",
       "      <td>Многие делают щекотку.</td>\n",
       "      <td>0.926431</td>\n",
       "      <td>0.058764</td>\n",
       "    </tr>\n",
       "    <tr>\n",
       "      <th>47231</th>\n",
       "      <td>Дождь идет кошкам и собакам.</td>\n",
       "      <td>0.821410</td>\n",
       "      <td>0.081167</td>\n",
       "    </tr>\n",
       "    <tr>\n",
       "      <th>300389</th>\n",
       "      <td>Естественно.</td>\n",
       "      <td>0.823215</td>\n",
       "      <td>0.151633</td>\n",
       "    </tr>\n",
       "    <tr>\n",
       "      <th>262133</th>\n",
       "      <td>Это кусок торта.</td>\n",
       "      <td>0.832333</td>\n",
       "      <td>0.159736</td>\n",
       "    </tr>\n",
       "    <tr>\n",
       "      <th>423224</th>\n",
       "      <td>Поговорите о дьяволе и он обязательно появится.</td>\n",
       "      <td>0.956265</td>\n",
       "      <td>0.055224</td>\n",
       "    </tr>\n",
       "    <tr>\n",
       "      <th>328865</th>\n",
       "      <td>Цепочка не срабатывает на самом слабом звене.</td>\n",
       "      <td>0.806969</td>\n",
       "      <td>0.055224</td>\n",
       "    </tr>\n",
       "    <tr>\n",
       "      <th>241218</th>\n",
       "      <td>Вааааааааааааааааааааааааааааааааааааааааааааа...</td>\n",
       "      <td>1.332027</td>\n",
       "      <td>0.067668</td>\n",
       "    </tr>\n",
       "  </tbody>\n",
       "</table>\n",
       "</div>"
      ],
      "text/plain": [
       "                                              translation    cosine      bleu\n",
       "68962   Предвидимая опасность — это опасность, которой...  0.807362  0.049900\n",
       "426306                      Многие хрени делают из хлама.  0.832403  0.081167\n",
       "98951                  У маленьких горшков длинные ручки.  0.806493  0.081167\n",
       "133332                             Многие делают щекотку.  0.926431  0.058764\n",
       "47231                        Дождь идет кошкам и собакам.  0.821410  0.081167\n",
       "300389                                       Естественно.  0.823215  0.151633\n",
       "262133                                   Это кусок торта.  0.832333  0.159736\n",
       "423224    Поговорите о дьяволе и он обязательно появится.  0.956265  0.055224\n",
       "328865      Цепочка не срабатывает на самом слабом звене.  0.806969  0.055224\n",
       "241218  Вааааааааааааааааааааааааааааааааааааааааааааа...  1.332027  0.067668"
      ]
     },
     "execution_count": 96,
     "metadata": {},
     "output_type": "execute_result"
    }
   ],
   "source": [
    "# Zone of idiomes\n",
    "cut_df = df[df.cosine > 0.8]\n",
    "\n",
    "print(\"Example count:\", len(cut_df))\n",
    "\n",
    "cut_df.sample(10)"
   ]
  },
  {
   "cell_type": "code",
   "execution_count": 97,
   "metadata": {},
   "outputs": [
    {
     "name": "stdout",
     "output_type": "stream",
     "text": [
      "Example count: 121244\n"
     ]
    },
    {
     "data": {
      "text/html": [
       "<div>\n",
       "<style scoped>\n",
       "    .dataframe tbody tr th:only-of-type {\n",
       "        vertical-align: middle;\n",
       "    }\n",
       "\n",
       "    .dataframe tbody tr th {\n",
       "        vertical-align: top;\n",
       "    }\n",
       "\n",
       "    .dataframe thead th {\n",
       "        text-align: right;\n",
       "    }\n",
       "</style>\n",
       "<table border=\"1\" class=\"dataframe\">\n",
       "  <thead>\n",
       "    <tr style=\"text-align: right;\">\n",
       "      <th></th>\n",
       "      <th>translation</th>\n",
       "      <th>cosine</th>\n",
       "      <th>bleu</th>\n",
       "    </tr>\n",
       "  </thead>\n",
       "  <tbody>\n",
       "    <tr>\n",
       "      <th>58741</th>\n",
       "      <td>Это все?</td>\n",
       "      <td>0.0</td>\n",
       "      <td>1.0</td>\n",
       "    </tr>\n",
       "    <tr>\n",
       "      <th>199553</th>\n",
       "      <td>Я оставил им пару сообщений.</td>\n",
       "      <td>0.0</td>\n",
       "      <td>1.0</td>\n",
       "    </tr>\n",
       "    <tr>\n",
       "      <th>41384</th>\n",
       "      <td>Чем я могу ему помочь?</td>\n",
       "      <td>0.0</td>\n",
       "      <td>1.0</td>\n",
       "    </tr>\n",
       "    <tr>\n",
       "      <th>325601</th>\n",
       "      <td>Ты любишь слонов.</td>\n",
       "      <td>0.0</td>\n",
       "      <td>1.0</td>\n",
       "    </tr>\n",
       "    <tr>\n",
       "      <th>96935</th>\n",
       "      <td>Мэри сказала мне, что хочет поговорить.</td>\n",
       "      <td>0.0</td>\n",
       "      <td>1.0</td>\n",
       "    </tr>\n",
       "    <tr>\n",
       "      <th>454040</th>\n",
       "      <td>Я тоже жил в Гамбурге.</td>\n",
       "      <td>0.0</td>\n",
       "      <td>1.0</td>\n",
       "    </tr>\n",
       "    <tr>\n",
       "      <th>122033</th>\n",
       "      <td>Я из Дании.</td>\n",
       "      <td>0.0</td>\n",
       "      <td>1.0</td>\n",
       "    </tr>\n",
       "    <tr>\n",
       "      <th>486247</th>\n",
       "      <td>Пора вернуться к реальности.</td>\n",
       "      <td>0.0</td>\n",
       "      <td>1.0</td>\n",
       "    </tr>\n",
       "    <tr>\n",
       "      <th>118413</th>\n",
       "      <td>Мы с Томом давно женаты.</td>\n",
       "      <td>0.0</td>\n",
       "      <td>1.0</td>\n",
       "    </tr>\n",
       "    <tr>\n",
       "      <th>100606</th>\n",
       "      <td>У него новая девушка.</td>\n",
       "      <td>0.0</td>\n",
       "      <td>1.0</td>\n",
       "    </tr>\n",
       "  </tbody>\n",
       "</table>\n",
       "</div>"
      ],
      "text/plain": [
       "                                    translation  cosine  bleu\n",
       "58741                                  Это все?     0.0   1.0\n",
       "199553             Я оставил им пару сообщений.     0.0   1.0\n",
       "41384                    Чем я могу ему помочь?     0.0   1.0\n",
       "325601                        Ты любишь слонов.     0.0   1.0\n",
       "96935   Мэри сказала мне, что хочет поговорить.     0.0   1.0\n",
       "454040                   Я тоже жил в Гамбурге.     0.0   1.0\n",
       "122033                              Я из Дании.     0.0   1.0\n",
       "486247             Пора вернуться к реальности.     0.0   1.0\n",
       "118413                 Мы с Томом давно женаты.     0.0   1.0\n",
       "100606                    У него новая девушка.     0.0   1.0"
      ]
     },
     "execution_count": 97,
     "metadata": {},
     "output_type": "execute_result"
    }
   ],
   "source": [
    "# Great translations by both metrics\n",
    "cut_df = df[(df.cosine < 0.1) & (df.bleu > 0.9)]\n",
    "\n",
    "print(\"Example count:\", len(cut_df))\n",
    "\n",
    "cut_df.sample(10)"
   ]
  },
  {
   "cell_type": "code",
   "execution_count": null,
   "metadata": {},
   "outputs": [],
   "source": []
  }
 ],
 "metadata": {
  "interpreter": {
   "hash": "f46dbfbc06b85bfa399c3f1e19d52b9e5842bc23723244878e740f9b0f429d7f"
  },
  "kernelspec": {
   "display_name": "Python 3 (ipykernel)",
   "language": "python",
   "name": "python3"
  },
  "language_info": {
   "codemirror_mode": {
    "name": "ipython",
    "version": 3
   },
   "file_extension": ".py",
   "mimetype": "text/x-python",
   "name": "python",
   "nbconvert_exporter": "python",
   "pygments_lexer": "ipython3",
   "version": "3.9.5"
  }
 },
 "nbformat": 4,
 "nbformat_minor": 2
}
