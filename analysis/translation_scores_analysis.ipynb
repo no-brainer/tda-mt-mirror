{
 "cells": [
  {
   "cell_type": "markdown",
   "source": [
    "# Tatoeba translation scores"
   ],
   "metadata": {}
  },
  {
   "cell_type": "code",
   "execution_count": 2,
   "source": [
    "import numpy as np\n",
    "import pandas as pd\n",
    "import matplotlib.pyplot as plt\n",
    "import seaborn as sns"
   ],
   "outputs": [],
   "metadata": {}
  },
  {
   "cell_type": "code",
   "execution_count": 3,
   "source": [
    "sns.set_palette(\"deep\")"
   ],
   "outputs": [],
   "metadata": {}
  },
  {
   "cell_type": "code",
   "execution_count": 4,
   "source": [
    "PLOTS_PATH = \"../plots\""
   ],
   "outputs": [],
   "metadata": {}
  },
  {
   "cell_type": "code",
   "execution_count": 5,
   "source": [
    "df = pd.read_csv(\"../data/tatoeba_train_opus_scores.tsv\", sep=\"\\t\", index_col=0)\n",
    "\n",
    "df.sample(10)"
   ],
   "outputs": [
    {
     "output_type": "execute_result",
     "data": {
      "text/plain": [
       "                                                translation      bleu  \\\n",
       "line_idx                                                                \n",
       "82353                    Я хочу поговорить с тобой наедине.  1.000000   \n",
       "301283                                  Это яблоко большое.  0.275348   \n",
       "127852                                   Я ничего не понял.  1.000000   \n",
       "486485                                         Не зли меня.  0.353553   \n",
       "320398                           Ты был моряком, не так ли?  0.131345   \n",
       "206116           Он был погружен в свою кровать с болезнью.  0.134851   \n",
       "163348                                Ребенок вбежал в дом.  0.668740   \n",
       "189599      Том попросил нас подождать, пока он не приедет.  0.277762   \n",
       "87597     Сколько профессиональных музыкантов, по-твоему...  0.133543   \n",
       "414188               Я устала от двухчасового обследования.  0.096524   \n",
       "\n",
       "          cosine_src_gold  cosine_src_tr  cosine_gold_tr  \n",
       "line_idx                                                  \n",
       "82353            0.091308       0.091308        0.000000  \n",
       "301283           0.099125       0.137122        0.076761  \n",
       "127852           0.063073       0.063073        0.000000  \n",
       "486485           0.094773       0.122098        0.018450  \n",
       "320398           0.143900       0.071510        0.083340  \n",
       "206116           0.180797       0.166105        0.119118  \n",
       "163348           0.059838       0.066107        0.011583  \n",
       "189599           0.161519       0.116409        0.032651  \n",
       "87597            0.087382       0.092139        0.026281  \n",
       "414188           0.132621       0.124340        0.106522  "
      ],
      "text/html": [
       "<div>\n",
       "<style scoped>\n",
       "    .dataframe tbody tr th:only-of-type {\n",
       "        vertical-align: middle;\n",
       "    }\n",
       "\n",
       "    .dataframe tbody tr th {\n",
       "        vertical-align: top;\n",
       "    }\n",
       "\n",
       "    .dataframe thead th {\n",
       "        text-align: right;\n",
       "    }\n",
       "</style>\n",
       "<table border=\"1\" class=\"dataframe\">\n",
       "  <thead>\n",
       "    <tr style=\"text-align: right;\">\n",
       "      <th></th>\n",
       "      <th>translation</th>\n",
       "      <th>bleu</th>\n",
       "      <th>cosine_src_gold</th>\n",
       "      <th>cosine_src_tr</th>\n",
       "      <th>cosine_gold_tr</th>\n",
       "    </tr>\n",
       "    <tr>\n",
       "      <th>line_idx</th>\n",
       "      <th></th>\n",
       "      <th></th>\n",
       "      <th></th>\n",
       "      <th></th>\n",
       "      <th></th>\n",
       "    </tr>\n",
       "  </thead>\n",
       "  <tbody>\n",
       "    <tr>\n",
       "      <th>82353</th>\n",
       "      <td>Я хочу поговорить с тобой наедине.</td>\n",
       "      <td>1.000000</td>\n",
       "      <td>0.091308</td>\n",
       "      <td>0.091308</td>\n",
       "      <td>0.000000</td>\n",
       "    </tr>\n",
       "    <tr>\n",
       "      <th>301283</th>\n",
       "      <td>Это яблоко большое.</td>\n",
       "      <td>0.275348</td>\n",
       "      <td>0.099125</td>\n",
       "      <td>0.137122</td>\n",
       "      <td>0.076761</td>\n",
       "    </tr>\n",
       "    <tr>\n",
       "      <th>127852</th>\n",
       "      <td>Я ничего не понял.</td>\n",
       "      <td>1.000000</td>\n",
       "      <td>0.063073</td>\n",
       "      <td>0.063073</td>\n",
       "      <td>0.000000</td>\n",
       "    </tr>\n",
       "    <tr>\n",
       "      <th>486485</th>\n",
       "      <td>Не зли меня.</td>\n",
       "      <td>0.353553</td>\n",
       "      <td>0.094773</td>\n",
       "      <td>0.122098</td>\n",
       "      <td>0.018450</td>\n",
       "    </tr>\n",
       "    <tr>\n",
       "      <th>320398</th>\n",
       "      <td>Ты был моряком, не так ли?</td>\n",
       "      <td>0.131345</td>\n",
       "      <td>0.143900</td>\n",
       "      <td>0.071510</td>\n",
       "      <td>0.083340</td>\n",
       "    </tr>\n",
       "    <tr>\n",
       "      <th>206116</th>\n",
       "      <td>Он был погружен в свою кровать с болезнью.</td>\n",
       "      <td>0.134851</td>\n",
       "      <td>0.180797</td>\n",
       "      <td>0.166105</td>\n",
       "      <td>0.119118</td>\n",
       "    </tr>\n",
       "    <tr>\n",
       "      <th>163348</th>\n",
       "      <td>Ребенок вбежал в дом.</td>\n",
       "      <td>0.668740</td>\n",
       "      <td>0.059838</td>\n",
       "      <td>0.066107</td>\n",
       "      <td>0.011583</td>\n",
       "    </tr>\n",
       "    <tr>\n",
       "      <th>189599</th>\n",
       "      <td>Том попросил нас подождать, пока он не приедет.</td>\n",
       "      <td>0.277762</td>\n",
       "      <td>0.161519</td>\n",
       "      <td>0.116409</td>\n",
       "      <td>0.032651</td>\n",
       "    </tr>\n",
       "    <tr>\n",
       "      <th>87597</th>\n",
       "      <td>Сколько профессиональных музыкантов, по-твоему...</td>\n",
       "      <td>0.133543</td>\n",
       "      <td>0.087382</td>\n",
       "      <td>0.092139</td>\n",
       "      <td>0.026281</td>\n",
       "    </tr>\n",
       "    <tr>\n",
       "      <th>414188</th>\n",
       "      <td>Я устала от двухчасового обследования.</td>\n",
       "      <td>0.096524</td>\n",
       "      <td>0.132621</td>\n",
       "      <td>0.124340</td>\n",
       "      <td>0.106522</td>\n",
       "    </tr>\n",
       "  </tbody>\n",
       "</table>\n",
       "</div>"
      ]
     },
     "metadata": {},
     "execution_count": 5
    }
   ],
   "metadata": {}
  },
  {
   "cell_type": "code",
   "execution_count": 6,
   "source": [
    "df.describe()"
   ],
   "outputs": [
    {
     "output_type": "execute_result",
     "data": {
      "text/plain": [
       "                bleu  cosine_src_gold  cosine_src_tr  cosine_gold_tr\n",
       "count  491480.000000    491480.000000  491480.000000   491480.000000\n",
       "mean        0.492341         0.107655       0.098586        0.043265\n",
       "std         0.331849         0.066054       0.051993        0.072209\n",
       "min         0.004618         0.009430       0.009430        0.000000\n",
       "25%         0.206124         0.066279       0.064505        0.000287\n",
       "50%         0.379918         0.090802       0.086903        0.012435\n",
       "75%         0.809107         0.128294       0.118271        0.056258\n",
       "max         1.000000         1.053983       1.347007        1.332027"
      ],
      "text/html": [
       "<div>\n",
       "<style scoped>\n",
       "    .dataframe tbody tr th:only-of-type {\n",
       "        vertical-align: middle;\n",
       "    }\n",
       "\n",
       "    .dataframe tbody tr th {\n",
       "        vertical-align: top;\n",
       "    }\n",
       "\n",
       "    .dataframe thead th {\n",
       "        text-align: right;\n",
       "    }\n",
       "</style>\n",
       "<table border=\"1\" class=\"dataframe\">\n",
       "  <thead>\n",
       "    <tr style=\"text-align: right;\">\n",
       "      <th></th>\n",
       "      <th>bleu</th>\n",
       "      <th>cosine_src_gold</th>\n",
       "      <th>cosine_src_tr</th>\n",
       "      <th>cosine_gold_tr</th>\n",
       "    </tr>\n",
       "  </thead>\n",
       "  <tbody>\n",
       "    <tr>\n",
       "      <th>count</th>\n",
       "      <td>491480.000000</td>\n",
       "      <td>491480.000000</td>\n",
       "      <td>491480.000000</td>\n",
       "      <td>491480.000000</td>\n",
       "    </tr>\n",
       "    <tr>\n",
       "      <th>mean</th>\n",
       "      <td>0.492341</td>\n",
       "      <td>0.107655</td>\n",
       "      <td>0.098586</td>\n",
       "      <td>0.043265</td>\n",
       "    </tr>\n",
       "    <tr>\n",
       "      <th>std</th>\n",
       "      <td>0.331849</td>\n",
       "      <td>0.066054</td>\n",
       "      <td>0.051993</td>\n",
       "      <td>0.072209</td>\n",
       "    </tr>\n",
       "    <tr>\n",
       "      <th>min</th>\n",
       "      <td>0.004618</td>\n",
       "      <td>0.009430</td>\n",
       "      <td>0.009430</td>\n",
       "      <td>0.000000</td>\n",
       "    </tr>\n",
       "    <tr>\n",
       "      <th>25%</th>\n",
       "      <td>0.206124</td>\n",
       "      <td>0.066279</td>\n",
       "      <td>0.064505</td>\n",
       "      <td>0.000287</td>\n",
       "    </tr>\n",
       "    <tr>\n",
       "      <th>50%</th>\n",
       "      <td>0.379918</td>\n",
       "      <td>0.090802</td>\n",
       "      <td>0.086903</td>\n",
       "      <td>0.012435</td>\n",
       "    </tr>\n",
       "    <tr>\n",
       "      <th>75%</th>\n",
       "      <td>0.809107</td>\n",
       "      <td>0.128294</td>\n",
       "      <td>0.118271</td>\n",
       "      <td>0.056258</td>\n",
       "    </tr>\n",
       "    <tr>\n",
       "      <th>max</th>\n",
       "      <td>1.000000</td>\n",
       "      <td>1.053983</td>\n",
       "      <td>1.347007</td>\n",
       "      <td>1.332027</td>\n",
       "    </tr>\n",
       "  </tbody>\n",
       "</table>\n",
       "</div>"
      ]
     },
     "metadata": {},
     "execution_count": 6
    }
   ],
   "metadata": {}
  },
  {
   "cell_type": "code",
   "execution_count": 100,
   "source": [
    "print(\"Correlation between evaluation scores\")\n",
    "\n",
    "df.corr()"
   ],
   "outputs": [
    {
     "output_type": "stream",
     "name": "stdout",
     "text": [
      "Correlation between evaluation scores\n"
     ]
    },
    {
     "output_type": "execute_result",
     "data": {
      "text/plain": [
       "                      bleu  cosine_src_gold  cosine_src_tr  cosine_gold_tr  \\\n",
       "bleu              1.000000        -0.266711      -0.180620       -0.475759   \n",
       "cosine_src_gold  -0.266711         1.000000       0.643236        0.705231   \n",
       "cosine_src_tr    -0.180620         0.643236       1.000000        0.469238   \n",
       "cosine_gold_tr   -0.475759         0.705231       0.469238        1.000000   \n",
       "lengths          -0.102372         0.103785       0.077062        0.001729   \n",
       "reference_length -0.128083         0.093046       0.111499        0.023438   \n",
       "len_ratio         0.022457         0.102397      -0.078367        0.020299   \n",
       "\n",
       "                   lengths  reference_length  len_ratio  \n",
       "bleu             -0.102372         -0.128083   0.022457  \n",
       "cosine_src_gold   0.103785          0.093046   0.102397  \n",
       "cosine_src_tr     0.077062          0.111499  -0.078367  \n",
       "cosine_gold_tr    0.001729          0.023438   0.020299  \n",
       "lengths           1.000000          0.946593   0.142267  \n",
       "reference_length  0.946593          1.000000  -0.138180  \n",
       "len_ratio         0.142267         -0.138180   1.000000  "
      ],
      "text/html": [
       "<div>\n",
       "<style scoped>\n",
       "    .dataframe tbody tr th:only-of-type {\n",
       "        vertical-align: middle;\n",
       "    }\n",
       "\n",
       "    .dataframe tbody tr th {\n",
       "        vertical-align: top;\n",
       "    }\n",
       "\n",
       "    .dataframe thead th {\n",
       "        text-align: right;\n",
       "    }\n",
       "</style>\n",
       "<table border=\"1\" class=\"dataframe\">\n",
       "  <thead>\n",
       "    <tr style=\"text-align: right;\">\n",
       "      <th></th>\n",
       "      <th>bleu</th>\n",
       "      <th>cosine_src_gold</th>\n",
       "      <th>cosine_src_tr</th>\n",
       "      <th>cosine_gold_tr</th>\n",
       "      <th>lengths</th>\n",
       "      <th>reference_length</th>\n",
       "      <th>len_ratio</th>\n",
       "    </tr>\n",
       "  </thead>\n",
       "  <tbody>\n",
       "    <tr>\n",
       "      <th>bleu</th>\n",
       "      <td>1.000000</td>\n",
       "      <td>-0.266711</td>\n",
       "      <td>-0.180620</td>\n",
       "      <td>-0.475759</td>\n",
       "      <td>-0.102372</td>\n",
       "      <td>-0.128083</td>\n",
       "      <td>0.022457</td>\n",
       "    </tr>\n",
       "    <tr>\n",
       "      <th>cosine_src_gold</th>\n",
       "      <td>-0.266711</td>\n",
       "      <td>1.000000</td>\n",
       "      <td>0.643236</td>\n",
       "      <td>0.705231</td>\n",
       "      <td>0.103785</td>\n",
       "      <td>0.093046</td>\n",
       "      <td>0.102397</td>\n",
       "    </tr>\n",
       "    <tr>\n",
       "      <th>cosine_src_tr</th>\n",
       "      <td>-0.180620</td>\n",
       "      <td>0.643236</td>\n",
       "      <td>1.000000</td>\n",
       "      <td>0.469238</td>\n",
       "      <td>0.077062</td>\n",
       "      <td>0.111499</td>\n",
       "      <td>-0.078367</td>\n",
       "    </tr>\n",
       "    <tr>\n",
       "      <th>cosine_gold_tr</th>\n",
       "      <td>-0.475759</td>\n",
       "      <td>0.705231</td>\n",
       "      <td>0.469238</td>\n",
       "      <td>1.000000</td>\n",
       "      <td>0.001729</td>\n",
       "      <td>0.023438</td>\n",
       "      <td>0.020299</td>\n",
       "    </tr>\n",
       "    <tr>\n",
       "      <th>lengths</th>\n",
       "      <td>-0.102372</td>\n",
       "      <td>0.103785</td>\n",
       "      <td>0.077062</td>\n",
       "      <td>0.001729</td>\n",
       "      <td>1.000000</td>\n",
       "      <td>0.946593</td>\n",
       "      <td>0.142267</td>\n",
       "    </tr>\n",
       "    <tr>\n",
       "      <th>reference_length</th>\n",
       "      <td>-0.128083</td>\n",
       "      <td>0.093046</td>\n",
       "      <td>0.111499</td>\n",
       "      <td>0.023438</td>\n",
       "      <td>0.946593</td>\n",
       "      <td>1.000000</td>\n",
       "      <td>-0.138180</td>\n",
       "    </tr>\n",
       "    <tr>\n",
       "      <th>len_ratio</th>\n",
       "      <td>0.022457</td>\n",
       "      <td>0.102397</td>\n",
       "      <td>-0.078367</td>\n",
       "      <td>0.020299</td>\n",
       "      <td>0.142267</td>\n",
       "      <td>-0.138180</td>\n",
       "      <td>1.000000</td>\n",
       "    </tr>\n",
       "  </tbody>\n",
       "</table>\n",
       "</div>"
      ]
     },
     "metadata": {},
     "execution_count": 100
    }
   ],
   "metadata": {}
  },
  {
   "cell_type": "code",
   "execution_count": 7,
   "source": [
    "from datetime import date\n",
    "import os"
   ],
   "outputs": [],
   "metadata": {}
  },
  {
   "cell_type": "code",
   "execution_count": 140,
   "source": [
    "sns.displot(data=df, x=\"bleu\", bins=50, alpha=0.9, zorder=10)\n",
    "\n",
    "ax = plt.gca()\n",
    "ax.set_yscale(\"log\")\n",
    "ax.set(\n",
    "    title=\"BLEU Score distribution\",\n",
    "    xlabel=\"BLEU\",\n",
    "    ylabel=\"Count (log scale)\",\n",
    ")\n",
    "\n",
    "ax.yaxis.grid(linestyle=\"dotted\", color=\"grey\", zorder=0)\n",
    "\n",
    "plt.savefig(\n",
    "    os.path.join(PLOTS_PATH, f\"bleu_distr_{date.today()}.pdf\"), \n",
    "    bbox_inches=\"tight\"\n",
    ")"
   ],
   "outputs": [
    {
     "output_type": "display_data",
     "data": {
      "text/plain": [
       "<Figure size 360x360 with 1 Axes>"
      ],
      "image/png": "[encoded data removed]"
     },
     "metadata": {
      "needs_background": "light"
     }
    }
   ],
   "metadata": {}
  },
  {
   "cell_type": "code",
   "execution_count": 141,
   "source": [
    "sns.displot(data=df, x=\"cosine_src_gold\", bins=50, alpha=0.9, zorder=10)\n",
    "\n",
    "ax = plt.gca()\n",
    "ax.set_yscale(\"log\")\n",
    "ax.set(\n",
    "    title=\"Distribution of cosine distance between\\nsource sentence and reference translation\",\n",
    "    xlabel=\"Cosine distance\",\n",
    "    ylabel=\"Count (log scale)\",\n",
    ")\n",
    "\n",
    "ax.yaxis.grid(linestyle=\"dotted\", color=\"grey\", zorder=0)\n",
    "\n",
    "plt.savefig(\n",
    "    os.path.join(PLOTS_PATH, f\"cosine_src_gold_distr_{date.today()}.pdf\"), \n",
    "    bbox_inches=\"tight\"\n",
    ")"
   ],
   "outputs": [
    {
     "output_type": "display_data",
     "data": {
      "text/plain": [
       "<Figure size 360x360 with 1 Axes>"
      ],
      "image/png": "[encoded data removed]"
     },
     "metadata": {
      "needs_background": "light"
     }
    }
   ],
   "metadata": {}
  },
  {
   "cell_type": "code",
   "execution_count": 142,
   "source": [
    "sns.displot(data=df, x=\"cosine_src_tr\", bins=50, alpha=0.9, zorder=10)\n",
    "\n",
    "ax = plt.gca()\n",
    "ax.set_yscale(\"log\")\n",
    "ax.set(\n",
    "    title=\"Distribution of cosine distance between\\nsource sentence and neural translation\",\n",
    "    xlabel=\"Cosine distance\",\n",
    "    ylabel=\"Count (log scale)\",\n",
    ")\n",
    "\n",
    "ax.yaxis.grid(linestyle=\"dotted\", color=\"grey\", zorder=0)\n",
    "\n",
    "plt.savefig(\n",
    "    os.path.join(PLOTS_PATH, f\"cosine_src_tr_distr_{date.today()}.pdf\"), \n",
    "    bbox_inches=\"tight\"\n",
    ")"
   ],
   "outputs": [
    {
     "output_type": "display_data",
     "data": {
      "text/plain": [
       "<Figure size 360x360 with 1 Axes>"
      ],
      "image/png": "[encoded data removed]"
     },
     "metadata": {
      "needs_background": "light"
     }
    }
   ],
   "metadata": {}
  },
  {
   "cell_type": "code",
   "execution_count": 143,
   "source": [
    "sns.displot(data=df, x=\"cosine_gold_tr\", bins=50, alpha=0.9, zorder=10)\n",
    "\n",
    "ax = plt.gca()\n",
    "ax.set_yscale(\"log\")\n",
    "ax.set(\n",
    "    title=\"Distribution of cosine distance between\\nreference and neural translation\",\n",
    "    xlabel=\"Cosine distance\",\n",
    "    ylabel=\"Count (log scale)\",\n",
    ")\n",
    "\n",
    "ax.yaxis.grid(linestyle=\"dotted\", color=\"grey\", zorder=0)\n",
    "\n",
    "plt.savefig(\n",
    "    os.path.join(PLOTS_PATH, f\"cosine_gold_tr_distr_{date.today()}.pdf\"), \n",
    "    bbox_inches=\"tight\"\n",
    ")"
   ],
   "outputs": [
    {
     "output_type": "display_data",
     "data": {
      "text/plain": [
       "<Figure size 360x360 with 1 Axes>"
      ],
      "image/png": "[encoded data removed]"
     },
     "metadata": {
      "needs_background": "light"
     }
    }
   ],
   "metadata": {}
  },
  {
   "cell_type": "markdown",
   "source": [
    "## Joint distributions for cosine distances"
   ],
   "metadata": {}
  },
  {
   "cell_type": "code",
   "execution_count": 144,
   "source": [
    "from matplotlib.colors import LogNorm"
   ],
   "outputs": [],
   "metadata": {}
  },
  {
   "cell_type": "code",
   "execution_count": 155,
   "source": [
    "plt.figure(figsize=(8, 8))\n",
    "\n",
    "map_data, xedges, yedges = np.histogram2d(df.cosine_src_gold, df.cosine_src_tr, bins=15)\n",
    "\n",
    "res = sns.heatmap(map_data, cmap=\"rocket_r\", norm=LogNorm(), square=True, cbar_kws=dict(pad=0.1, shrink=0.75))\n",
    "\n",
    "res.invert_yaxis()\n",
    "for _, spine in res.spines.items():\n",
    "    spine.set_visible(True)\n",
    "\n",
    "ax = plt.gca()\n",
    "ax.set_title(\n",
    "    \"Joint distribution for cosine distances\",\n",
    "    pad=20,\n",
    "    fontsize=14,\n",
    ")\n",
    "ax.set_xlabel(\"Cosine distance between source and reference\", fontsize=11)\n",
    "ax.set_ylabel(\"Cosine distance between source and neural translation\", fontsize=11)\n",
    "\n",
    "ax.tick_params(rotation=0, axis=\"x\")\n",
    "ax.set_xticks(np.linspace(*ax.get_ylim(), 7))\n",
    "ax.set_xticklabels(map(lambda x: f\"{x:.2f}\", np.linspace(xedges[0], xedges[-1], 7)))\n",
    "\n",
    "ax.tick_params(rotation=0, axis=\"y\")\n",
    "ax.set_yticks(np.linspace(*ax.get_xlim(), 7))\n",
    "ax.set_yticklabels(map(lambda x: f\"{x:.2f}\", np.linspace(yedges[0], yedges[-1], 7)))\n",
    "\n",
    "plt.savefig(\n",
    "    os.path.join(PLOTS_PATH, f\"joint_distr-src_gold-src_tr_{date.today()}.pdf\"), \n",
    "    bbox_inches=\"tight\"\n",
    ")"
   ],
   "outputs": [
    {
     "output_type": "display_data",
     "data": {
      "text/plain": [
       "<Figure size 576x576 with 2 Axes>"
      ],
      "image/png": "[encoded data removed]"
     },
     "metadata": {
      "needs_background": "light"
     }
    }
   ],
   "metadata": {}
  },
  {
   "cell_type": "code",
   "execution_count": 159,
   "source": [
    "plt.figure(figsize=(8, 8))\n",
    "\n",
    "map_data, xedges, yedges = np.histogram2d(df.cosine_src_gold, df.cosine_gold_tr, bins=15)\n",
    "\n",
    "res = sns.heatmap(map_data, cmap=\"rocket_r\", norm=LogNorm(), square=True, cbar_kws=dict(pad=0.1, shrink=0.75))\n",
    "\n",
    "res.invert_yaxis()\n",
    "for _, spine in res.spines.items():\n",
    "    spine.set_visible(True)\n",
    "\n",
    "ax = plt.gca()\n",
    "ax.set_title(\n",
    "    \"Joint distribution for cosine distances\",\n",
    "    pad=20,\n",
    "    fontsize=14,\n",
    ")\n",
    "ax.set_xlabel(\"Cosine distance between source and reference\", fontsize=11)\n",
    "ax.set_ylabel(\"Cosine distance between reference and neural translation\", fontsize=11)\n",
    "\n",
    "ax.tick_params(rotation=0, axis=\"x\")\n",
    "ax.set_xticks(np.linspace(*ax.get_ylim(), 7))\n",
    "ax.set_xticklabels(map(lambda x: f\"{x:.2f}\", np.linspace(xedges[0], xedges[-1], 7)))\n",
    "\n",
    "ax.tick_params(rotation=0, axis=\"y\")\n",
    "ax.set_yticks(np.linspace(*ax.get_xlim(), 7))\n",
    "ax.set_yticklabels(map(lambda x: f\"{x:.2f}\", np.linspace(yedges[0], yedges[-1], 7)))\n",
    "\n",
    "plt.savefig(\n",
    "    os.path.join(PLOTS_PATH, f\"joint_distr-src_gold-gold_tr_{date.today()}.pdf\"), \n",
    "    bbox_inches=\"tight\"\n",
    ")"
   ],
   "outputs": [
    {
     "output_type": "display_data",
     "data": {
      "text/plain": [
       "<Figure size 576x576 with 2 Axes>"
      ],
      "image/png": "[encoded data removed]"
     },
     "metadata": {
      "needs_background": "light"
     }
    }
   ],
   "metadata": {}
  },
  {
   "cell_type": "code",
   "execution_count": 160,
   "source": [
    "plt.figure(figsize=(8, 8))\n",
    "\n",
    "map_data, xedges, yedges = np.histogram2d(df.cosine_gold_tr, df.cosine_src_tr, bins=15)\n",
    "\n",
    "res = sns.heatmap(map_data, cmap=\"rocket_r\", norm=LogNorm(), square=True, cbar_kws=dict(pad=0.1, shrink=0.75))\n",
    "\n",
    "res.invert_yaxis()\n",
    "for _, spine in res.spines.items():\n",
    "    spine.set_visible(True)\n",
    "\n",
    "ax = plt.gca()\n",
    "ax.set_title(\n",
    "    \"Joint distribution for cosine distances\",\n",
    "    pad=20,\n",
    "    fontsize=14,\n",
    ")\n",
    "ax.set_xlabel(\"Cosine distance between reference and neural translation\", fontsize=11)\n",
    "ax.set_ylabel(\"Cosine distance between source and neural translation\", fontsize=11)\n",
    "\n",
    "ax.tick_params(rotation=0, axis=\"x\")\n",
    "ax.set_xticks(np.linspace(*ax.get_ylim(), 7))\n",
    "ax.set_xticklabels(map(lambda x: f\"{x:.2f}\", np.linspace(xedges[0], xedges[-1], 7)))\n",
    "\n",
    "ax.tick_params(rotation=0, axis=\"y\")\n",
    "ax.set_yticks(np.linspace(*ax.get_xlim(), 7))\n",
    "ax.set_yticklabels(map(lambda x: f\"{x:.2f}\", np.linspace(yedges[0], yedges[-1], 7)))\n",
    "\n",
    "plt.savefig(\n",
    "    os.path.join(PLOTS_PATH, f\"joint_distr-gold_tr-src_tr_{date.today()}.pdf\"), \n",
    "    bbox_inches=\"tight\"\n",
    ")"
   ],
   "outputs": [
    {
     "output_type": "display_data",
     "data": {
      "text/plain": [
       "<Figure size 576x576 with 2 Axes>"
      ],
      "image/png": "[encoded data removed]"
     },
     "metadata": {
      "needs_background": "light"
     }
    }
   ],
   "metadata": {}
  },
  {
   "cell_type": "markdown",
   "source": [
    "## Relationship between all cosine distances"
   ],
   "metadata": {}
  },
  {
   "cell_type": "code",
   "execution_count": 121,
   "source": [
    "import warnings\n",
    "\n",
    "warnings.simplefilter(\"once\")"
   ],
   "outputs": [],
   "metadata": {}
  },
  {
   "cell_type": "code",
   "execution_count": 128,
   "source": [
    "tmp_data = df[[\"cosine_gold_tr\"]]\n",
    "\n",
    "tmp_data[\"src_gold_bin\"] = pd.cut(df.cosine_src_gold, bins=15)\n",
    "tmp_data[\"src_tr_bin\"] = pd.cut(df.cosine_src_tr, bins=15)\n",
    "\n",
    "tmp_data = tmp_data.groupby(by=[\"src_gold_bin\", \"src_tr_bin\"]).mean().reset_index()\n",
    "tmp_data = tmp_data.pivot(index=\"src_gold_bin\", columns=\"src_tr_bin\")\n",
    "\n",
    "plt.figure(figsize=(8, 8))\n",
    "\n",
    "res = sns.heatmap(tmp_data, cmap=\"rocket_r\", square=True, cbar_kws=dict(pad=0.1, shrink=0.75))\n",
    "\n",
    "res.invert_yaxis()\n",
    "for _, spine in res.spines.items():\n",
    "    spine.set_visible(True)\n",
    "\n",
    "ax = plt.gca()\n",
    "ax.set_title(\n",
    "    \"Mean cosine distance between\\nreference and neural translation\",\n",
    "    pad=20,\n",
    "    fontsize=14,\n",
    ")\n",
    "ax.set_xlabel(\"Cosine distance between\\nsource and neural translation\", fontsize=11)\n",
    "ax.set_ylabel(\"Cosine distance between\\nsource and reference\", fontsize=11)\n",
    "\n",
    "ax.tick_params(rotation=0, axis=\"x\")\n",
    "ax.set_xticks(np.linspace(*ax.get_ylim(), 7))\n",
    "ax.set_xticklabels(map(\n",
    "    lambda x: f\"{x:.2f}\", \n",
    "    np.linspace(df.cosine_src_tr.min(), df.cosine_src_tr.max(), 7)\n",
    "))\n",
    "\n",
    "ax.tick_params(rotation=0, axis=\"y\")\n",
    "ax.set_yticks(np.linspace(*ax.get_xlim(), 7))\n",
    "ax.set_yticklabels(map(\n",
    "    lambda x: f\"{x:.2f}\", \n",
    "    np.linspace(df.cosine_src_gold.min(), df.cosine_src_gold.max(), 7)\n",
    "))\n",
    "\n",
    "plt.show()"
   ],
   "outputs": [
    {
     "output_type": "stream",
     "name": "stderr",
     "text": [
      "/var/folders/18/0v6pzkhx2_v0c28pjmnp4ynh0000gn/T/ipykernel_2471/3012236981.py:3: SettingWithCopyWarning: \n",
      "A value is trying to be set on a copy of a slice from a DataFrame.\n",
      "Try using .loc[row_indexer,col_indexer] = value instead\n",
      "\n",
      "See the caveats in the documentation: https://pandas.pydata.org/pandas-docs/stable/user_guide/indexing.html#returning-a-view-versus-a-copy\n",
      "  tmp_data[\"src_gold_bin\"] = pd.cut(df.cosine_src_gold, bins=15)\n"
     ]
    },
    {
     "output_type": "display_data",
     "data": {
      "text/plain": [
       "<Figure size 576x576 with 2 Axes>"
      ],
      "image/png": "[encoded data removed]"
     },
     "metadata": {
      "needs_background": "light"
     }
    }
   ],
   "metadata": {}
  },
  {
   "cell_type": "code",
   "execution_count": 131,
   "source": [
    "tmp_data = df[[\"cosine_src_tr\"]]\n",
    "\n",
    "tmp_data[\"gold_tr_bin\"] = pd.cut(df.cosine_gold_tr, bins=15)\n",
    "tmp_data[\"src_gold_bin\"] = pd.cut(df.cosine_src_gold, bins=15)\n",
    "\n",
    "tmp_data = tmp_data.groupby(by=[\"gold_tr_bin\", \"src_gold_bin\"]).mean().reset_index()\n",
    "tmp_data = tmp_data.pivot(index=\"gold_tr_bin\", columns=\"src_gold_bin\")\n",
    "\n",
    "plt.figure(figsize=(8, 8))\n",
    "\n",
    "res = sns.heatmap(tmp_data, cmap=\"rocket_r\", square=True, cbar_kws=dict(pad=0.1, shrink=0.75))\n",
    "\n",
    "res.invert_yaxis()\n",
    "for _, spine in res.spines.items():\n",
    "    spine.set_visible(True)\n",
    "\n",
    "ax = plt.gca()\n",
    "ax.set_title(\n",
    "    \"Mean cosine distance between\\nsource and neural translation\",\n",
    "    pad=20,\n",
    "    fontsize=14,\n",
    ")\n",
    "ax.set_xlabel(\"Cosine distance between\\nreference and neural translation\", fontsize=11)\n",
    "ax.set_ylabel(\"Cosine distance between\\nsource and reference\", fontsize=11)\n",
    "\n",
    "ax.tick_params(rotation=0, axis=\"x\")\n",
    "ax.set_xticks(np.linspace(*ax.get_ylim(), 7))\n",
    "ax.set_xticklabels(map(\n",
    "    lambda x: f\"{x:.2f}\", \n",
    "    np.linspace(df.cosine_gold_tr.min(), df.cosine_gold_tr.max(), 7)\n",
    "))\n",
    "\n",
    "ax.tick_params(rotation=0, axis=\"y\")\n",
    "ax.set_yticks(np.linspace(*ax.get_xlim(), 7))\n",
    "ax.set_yticklabels(map(\n",
    "    lambda x: f\"{x:.2f}\", \n",
    "    np.linspace(df.cosine_src_gold.min(), df.cosine_src_gold.max(), 7)\n",
    "))\n",
    "\n",
    "plt.show()"
   ],
   "outputs": [
    {
     "output_type": "stream",
     "name": "stderr",
     "text": [
      "/var/folders/18/0v6pzkhx2_v0c28pjmnp4ynh0000gn/T/ipykernel_2471/4101852113.py:3: SettingWithCopyWarning: \n",
      "A value is trying to be set on a copy of a slice from a DataFrame.\n",
      "Try using .loc[row_indexer,col_indexer] = value instead\n",
      "\n",
      "See the caveats in the documentation: https://pandas.pydata.org/pandas-docs/stable/user_guide/indexing.html#returning-a-view-versus-a-copy\n",
      "  tmp_data[\"gold_tr_bin\"] = pd.cut(df.cosine_gold_tr, bins=15)\n"
     ]
    },
    {
     "output_type": "display_data",
     "data": {
      "text/plain": [
       "<Figure size 576x576 with 2 Axes>"
      ],
      "image/png": "[encoded data removed]"
     },
     "metadata": {
      "needs_background": "light"
     }
    }
   ],
   "metadata": {}
  },
  {
   "cell_type": "markdown",
   "source": [
    "## Translation lengths\n",
    "\n",
    "Hallucinations seem to make sentences much longer. Let's check out translation lengths."
   ],
   "metadata": {}
  },
  {
   "cell_type": "code",
   "execution_count": 22,
   "source": [
    "df[\"lengths\"] = df.translation.str.len()\n",
    "\n",
    "sns.histplot(df.lengths, bins=50, alpha=0.9, zorder=10)\n",
    "\n",
    "ax = plt.gca()\n",
    "ax.set_yscale(\"log\")\n",
    "ax.set(\n",
    "    title=\"Translation length distribution\",\n",
    "    xlabel=\"Translation lengths\",\n",
    "    ylabel=\"Count (log scale)\",\n",
    ")\n",
    "\n",
    "ax.yaxis.grid(linestyle=\"dotted\", color=\"grey\", zorder=0)\n",
    "\n",
    "plt.savefig(\n",
    "    os.path.join(PLOTS_PATH, f\"translation_length_distr_{date.today()}.pdf\"), \n",
    "    bbox_inches=\"tight\"\n",
    ")"
   ],
   "outputs": [
    {
     "output_type": "display_data",
     "data": {
      "text/plain": [
       "<Figure size 432x288 with 1 Axes>"
      ],
      "image/png": "[encoded data removed]"
     },
     "metadata": {
      "needs_background": "light"
     }
    }
   ],
   "metadata": {}
  },
  {
   "cell_type": "code",
   "execution_count": 81,
   "source": [
    "corpus_df = pd.read_csv(\"../data/tatoeba_train.tsv\", sep=\"\\t\", names=[\"lang1\", \"lang2\", \"sent1\", \"sent2\"])\n",
    "corpus_df = corpus_df.loc[df.index]\n",
    "\n",
    "df[\"reference_length\"] = corpus_df.sent2.str.len()\n",
    "df[\"src\"] = corpus_df.sent1\n",
    "\n",
    "del corpus_df"
   ],
   "outputs": [],
   "metadata": {}
  },
  {
   "cell_type": "code",
   "execution_count": 83,
   "source": [
    "df[\"len_ratio\"] = df.lengths / df.reference_length"
   ],
   "outputs": [],
   "metadata": {}
  },
  {
   "cell_type": "code",
   "execution_count": 92,
   "source": [
    "with open(\"data.log\", \"w\") as f:\n",
    "    for row in df[df.len_ratio > 2.5].itertuples():\n",
    "        print(row.src, file=f)\n",
    "        print(row.translation, file=f)\n",
    "        print(row.Index, file=f)\n",
    "        print(\"\", file=f)"
   ],
   "outputs": [],
   "metadata": {}
  },
  {
   "cell_type": "code",
   "execution_count": 99,
   "source": [
    "sns.histplot(df.len_ratio, bins=50)\n",
    "\n",
    "ax = plt.gca()\n",
    "ax.set_yscale(\"log\")\n",
    "ax.set(\n",
    "    title=\"Length ratio distribution\",\n",
    "    xlabel=\"Ratio (translation over reference)\",\n",
    "    ylabel=\"Count (log scale)\",\n",
    ")\n",
    "\n",
    "ax.yaxis.grid(linestyle=\"dotted\", color=\"grey\", zorder=0)\n",
    "\n",
    "plt.show()"
   ],
   "outputs": [
    {
     "output_type": "display_data",
     "data": {
      "text/plain": [
       "<Figure size 432x288 with 1 Axes>"
      ],
      "image/png": "[encoded data removed]"
     },
     "metadata": {
      "needs_background": "light"
     }
    }
   ],
   "metadata": {}
  },
  {
   "cell_type": "markdown",
   "source": [
    "## Separating data into bad translations and good translations"
   ],
   "metadata": {}
  },
  {
   "cell_type": "code",
   "execution_count": 57,
   "source": [
    "cut_df = df[((df.bleu - 20 / 7 * df.cosine) < 0) & (df.bleu > 0.4)]\n",
    "\n",
    "print(\"Example count:\", len(cut_df))\n",
    "\n",
    "cut_df.sample(10)"
   ],
   "outputs": [
    {
     "output_type": "stream",
     "name": "stdout",
     "text": [
      "Example count: 1293\n"
     ]
    },
    {
     "output_type": "execute_result",
     "data": {
      "text/plain": [
       "                                             translation    cosine      bleu\n",
       "line_idx                                                                    \n",
       "56008                    Тома трижды выстрелили в спину.  0.171484  0.430125\n",
       "463826                              Я ценю вашу позицию.  0.157124  0.427287\n",
       "127272                                       Том промок.  0.168484  0.451386\n",
       "337445                                Правильные ошибки.  0.204098  0.550321\n",
       "384134                                 Счет, пожалуйста.  0.308525  0.594604\n",
       "261315                                         Терпение.  0.470843  0.500000\n",
       "321257      Кто-то, должно быть, оставил воду в течении.  0.197078  0.537285\n",
       "265819                                             Ясно.  0.260434  0.500000\n",
       "342076    Я чувствую, что перевод стал очень неприятным.  0.185114  0.467138\n",
       "110936                           Поторопись, пожалуйста.  0.293818  0.594604"
      ],
      "text/html": [
       "<div>\n",
       "<style scoped>\n",
       "    .dataframe tbody tr th:only-of-type {\n",
       "        vertical-align: middle;\n",
       "    }\n",
       "\n",
       "    .dataframe tbody tr th {\n",
       "        vertical-align: top;\n",
       "    }\n",
       "\n",
       "    .dataframe thead th {\n",
       "        text-align: right;\n",
       "    }\n",
       "</style>\n",
       "<table border=\"1\" class=\"dataframe\">\n",
       "  <thead>\n",
       "    <tr style=\"text-align: right;\">\n",
       "      <th></th>\n",
       "      <th>translation</th>\n",
       "      <th>cosine</th>\n",
       "      <th>bleu</th>\n",
       "    </tr>\n",
       "    <tr>\n",
       "      <th>line_idx</th>\n",
       "      <th></th>\n",
       "      <th></th>\n",
       "      <th></th>\n",
       "    </tr>\n",
       "  </thead>\n",
       "  <tbody>\n",
       "    <tr>\n",
       "      <th>56008</th>\n",
       "      <td>Тома трижды выстрелили в спину.</td>\n",
       "      <td>0.171484</td>\n",
       "      <td>0.430125</td>\n",
       "    </tr>\n",
       "    <tr>\n",
       "      <th>463826</th>\n",
       "      <td>Я ценю вашу позицию.</td>\n",
       "      <td>0.157124</td>\n",
       "      <td>0.427287</td>\n",
       "    </tr>\n",
       "    <tr>\n",
       "      <th>127272</th>\n",
       "      <td>Том промок.</td>\n",
       "      <td>0.168484</td>\n",
       "      <td>0.451386</td>\n",
       "    </tr>\n",
       "    <tr>\n",
       "      <th>337445</th>\n",
       "      <td>Правильные ошибки.</td>\n",
       "      <td>0.204098</td>\n",
       "      <td>0.550321</td>\n",
       "    </tr>\n",
       "    <tr>\n",
       "      <th>384134</th>\n",
       "      <td>Счет, пожалуйста.</td>\n",
       "      <td>0.308525</td>\n",
       "      <td>0.594604</td>\n",
       "    </tr>\n",
       "    <tr>\n",
       "      <th>261315</th>\n",
       "      <td>Терпение.</td>\n",
       "      <td>0.470843</td>\n",
       "      <td>0.500000</td>\n",
       "    </tr>\n",
       "    <tr>\n",
       "      <th>321257</th>\n",
       "      <td>Кто-то, должно быть, оставил воду в течении.</td>\n",
       "      <td>0.197078</td>\n",
       "      <td>0.537285</td>\n",
       "    </tr>\n",
       "    <tr>\n",
       "      <th>265819</th>\n",
       "      <td>Ясно.</td>\n",
       "      <td>0.260434</td>\n",
       "      <td>0.500000</td>\n",
       "    </tr>\n",
       "    <tr>\n",
       "      <th>342076</th>\n",
       "      <td>Я чувствую, что перевод стал очень неприятным.</td>\n",
       "      <td>0.185114</td>\n",
       "      <td>0.467138</td>\n",
       "    </tr>\n",
       "    <tr>\n",
       "      <th>110936</th>\n",
       "      <td>Поторопись, пожалуйста.</td>\n",
       "      <td>0.293818</td>\n",
       "      <td>0.594604</td>\n",
       "    </tr>\n",
       "  </tbody>\n",
       "</table>\n",
       "</div>"
      ]
     },
     "metadata": {},
     "execution_count": 57
    }
   ],
   "metadata": {}
  },
  {
   "cell_type": "code",
   "execution_count": 96,
   "source": [
    "# Zone of idiomes\n",
    "cut_df = df[df.cosine > 0.8]\n",
    "\n",
    "print(\"Example count:\", len(cut_df))\n",
    "\n",
    "cut_df.sample(10)"
   ],
   "outputs": [
    {
     "output_type": "stream",
     "name": "stdout",
     "text": [
      "Example count: 33\n"
     ]
    },
    {
     "output_type": "execute_result",
     "data": {
      "text/plain": [
       "                                              translation    cosine      bleu\n",
       "68962   Предвидимая опасность — это опасность, которой...  0.807362  0.049900\n",
       "426306                      Многие хрени делают из хлама.  0.832403  0.081167\n",
       "98951                  У маленьких горшков длинные ручки.  0.806493  0.081167\n",
       "133332                             Многие делают щекотку.  0.926431  0.058764\n",
       "47231                        Дождь идет кошкам и собакам.  0.821410  0.081167\n",
       "300389                                       Естественно.  0.823215  0.151633\n",
       "262133                                   Это кусок торта.  0.832333  0.159736\n",
       "423224    Поговорите о дьяволе и он обязательно появится.  0.956265  0.055224\n",
       "328865      Цепочка не срабатывает на самом слабом звене.  0.806969  0.055224\n",
       "241218  Вааааааааааааааааааааааааааааааааааааааааааааа...  1.332027  0.067668"
      ],
      "text/html": [
       "<div>\n",
       "<style scoped>\n",
       "    .dataframe tbody tr th:only-of-type {\n",
       "        vertical-align: middle;\n",
       "    }\n",
       "\n",
       "    .dataframe tbody tr th {\n",
       "        vertical-align: top;\n",
       "    }\n",
       "\n",
       "    .dataframe thead th {\n",
       "        text-align: right;\n",
       "    }\n",
       "</style>\n",
       "<table border=\"1\" class=\"dataframe\">\n",
       "  <thead>\n",
       "    <tr style=\"text-align: right;\">\n",
       "      <th></th>\n",
       "      <th>translation</th>\n",
       "      <th>cosine</th>\n",
       "      <th>bleu</th>\n",
       "    </tr>\n",
       "  </thead>\n",
       "  <tbody>\n",
       "    <tr>\n",
       "      <th>68962</th>\n",
       "      <td>Предвидимая опасность — это опасность, которой...</td>\n",
       "      <td>0.807362</td>\n",
       "      <td>0.049900</td>\n",
       "    </tr>\n",
       "    <tr>\n",
       "      <th>426306</th>\n",
       "      <td>Многие хрени делают из хлама.</td>\n",
       "      <td>0.832403</td>\n",
       "      <td>0.081167</td>\n",
       "    </tr>\n",
       "    <tr>\n",
       "      <th>98951</th>\n",
       "      <td>У маленьких горшков длинные ручки.</td>\n",
       "      <td>0.806493</td>\n",
       "      <td>0.081167</td>\n",
       "    </tr>\n",
       "    <tr>\n",
       "      <th>133332</th>\n",
       "      <td>Многие делают щекотку.</td>\n",
       "      <td>0.926431</td>\n",
       "      <td>0.058764</td>\n",
       "    </tr>\n",
       "    <tr>\n",
       "      <th>47231</th>\n",
       "      <td>Дождь идет кошкам и собакам.</td>\n",
       "      <td>0.821410</td>\n",
       "      <td>0.081167</td>\n",
       "    </tr>\n",
       "    <tr>\n",
       "      <th>300389</th>\n",
       "      <td>Естественно.</td>\n",
       "      <td>0.823215</td>\n",
       "      <td>0.151633</td>\n",
       "    </tr>\n",
       "    <tr>\n",
       "      <th>262133</th>\n",
       "      <td>Это кусок торта.</td>\n",
       "      <td>0.832333</td>\n",
       "      <td>0.159736</td>\n",
       "    </tr>\n",
       "    <tr>\n",
       "      <th>423224</th>\n",
       "      <td>Поговорите о дьяволе и он обязательно появится.</td>\n",
       "      <td>0.956265</td>\n",
       "      <td>0.055224</td>\n",
       "    </tr>\n",
       "    <tr>\n",
       "      <th>328865</th>\n",
       "      <td>Цепочка не срабатывает на самом слабом звене.</td>\n",
       "      <td>0.806969</td>\n",
       "      <td>0.055224</td>\n",
       "    </tr>\n",
       "    <tr>\n",
       "      <th>241218</th>\n",
       "      <td>Вааааааааааааааааааааааааааааааааааааааааааааа...</td>\n",
       "      <td>1.332027</td>\n",
       "      <td>0.067668</td>\n",
       "    </tr>\n",
       "  </tbody>\n",
       "</table>\n",
       "</div>"
      ]
     },
     "metadata": {},
     "execution_count": 96
    }
   ],
   "metadata": {}
  },
  {
   "cell_type": "code",
   "execution_count": 97,
   "source": [
    "# Great translations by both metrics\n",
    "cut_df = df[(df.cosine < 0.1) & (df.bleu > 0.9)]\n",
    "\n",
    "print(\"Example count:\", len(cut_df))\n",
    "\n",
    "cut_df.sample(10)"
   ],
   "outputs": [
    {
     "output_type": "stream",
     "name": "stdout",
     "text": [
      "Example count: 121244\n"
     ]
    },
    {
     "output_type": "execute_result",
     "data": {
      "text/plain": [
       "                                    translation  cosine  bleu\n",
       "58741                                  Это все?     0.0   1.0\n",
       "199553             Я оставил им пару сообщений.     0.0   1.0\n",
       "41384                    Чем я могу ему помочь?     0.0   1.0\n",
       "325601                        Ты любишь слонов.     0.0   1.0\n",
       "96935   Мэри сказала мне, что хочет поговорить.     0.0   1.0\n",
       "454040                   Я тоже жил в Гамбурге.     0.0   1.0\n",
       "122033                              Я из Дании.     0.0   1.0\n",
       "486247             Пора вернуться к реальности.     0.0   1.0\n",
       "118413                 Мы с Томом давно женаты.     0.0   1.0\n",
       "100606                    У него новая девушка.     0.0   1.0"
      ],
      "text/html": [
       "<div>\n",
       "<style scoped>\n",
       "    .dataframe tbody tr th:only-of-type {\n",
       "        vertical-align: middle;\n",
       "    }\n",
       "\n",
       "    .dataframe tbody tr th {\n",
       "        vertical-align: top;\n",
       "    }\n",
       "\n",
       "    .dataframe thead th {\n",
       "        text-align: right;\n",
       "    }\n",
       "</style>\n",
       "<table border=\"1\" class=\"dataframe\">\n",
       "  <thead>\n",
       "    <tr style=\"text-align: right;\">\n",
       "      <th></th>\n",
       "      <th>translation</th>\n",
       "      <th>cosine</th>\n",
       "      <th>bleu</th>\n",
       "    </tr>\n",
       "  </thead>\n",
       "  <tbody>\n",
       "    <tr>\n",
       "      <th>58741</th>\n",
       "      <td>Это все?</td>\n",
       "      <td>0.0</td>\n",
       "      <td>1.0</td>\n",
       "    </tr>\n",
       "    <tr>\n",
       "      <th>199553</th>\n",
       "      <td>Я оставил им пару сообщений.</td>\n",
       "      <td>0.0</td>\n",
       "      <td>1.0</td>\n",
       "    </tr>\n",
       "    <tr>\n",
       "      <th>41384</th>\n",
       "      <td>Чем я могу ему помочь?</td>\n",
       "      <td>0.0</td>\n",
       "      <td>1.0</td>\n",
       "    </tr>\n",
       "    <tr>\n",
       "      <th>325601</th>\n",
       "      <td>Ты любишь слонов.</td>\n",
       "      <td>0.0</td>\n",
       "      <td>1.0</td>\n",
       "    </tr>\n",
       "    <tr>\n",
       "      <th>96935</th>\n",
       "      <td>Мэри сказала мне, что хочет поговорить.</td>\n",
       "      <td>0.0</td>\n",
       "      <td>1.0</td>\n",
       "    </tr>\n",
       "    <tr>\n",
       "      <th>454040</th>\n",
       "      <td>Я тоже жил в Гамбурге.</td>\n",
       "      <td>0.0</td>\n",
       "      <td>1.0</td>\n",
       "    </tr>\n",
       "    <tr>\n",
       "      <th>122033</th>\n",
       "      <td>Я из Дании.</td>\n",
       "      <td>0.0</td>\n",
       "      <td>1.0</td>\n",
       "    </tr>\n",
       "    <tr>\n",
       "      <th>486247</th>\n",
       "      <td>Пора вернуться к реальности.</td>\n",
       "      <td>0.0</td>\n",
       "      <td>1.0</td>\n",
       "    </tr>\n",
       "    <tr>\n",
       "      <th>118413</th>\n",
       "      <td>Мы с Томом давно женаты.</td>\n",
       "      <td>0.0</td>\n",
       "      <td>1.0</td>\n",
       "    </tr>\n",
       "    <tr>\n",
       "      <th>100606</th>\n",
       "      <td>У него новая девушка.</td>\n",
       "      <td>0.0</td>\n",
       "      <td>1.0</td>\n",
       "    </tr>\n",
       "  </tbody>\n",
       "</table>\n",
       "</div>"
      ]
     },
     "metadata": {},
     "execution_count": 97
    }
   ],
   "metadata": {}
  },
  {
   "cell_type": "code",
   "execution_count": null,
   "source": [],
   "outputs": [],
   "metadata": {}
  }
 ],
 "metadata": {
  "interpreter": {
   "hash": "f46dbfbc06b85bfa399c3f1e19d52b9e5842bc23723244878e740f9b0f429d7f"
  },
  "kernelspec": {
   "name": "python3",
   "display_name": "Python 3.9.6 64-bit ('.venv': venv)"
  },
  "language_info": {
   "codemirror_mode": {
    "name": "ipython",
    "version": 3
   },
   "file_extension": ".py",
   "mimetype": "text/x-python",
   "name": "python",
   "nbconvert_exporter": "python",
   "pygments_lexer": "ipython3",
   "version": "3.9.6"
  }
 },
 "nbformat": 4,
 "nbformat_minor": 2
}